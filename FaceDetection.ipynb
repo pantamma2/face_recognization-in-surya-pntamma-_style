{
 "cells": [
  {
   "cell_type": "markdown",
   "metadata": {},
   "source": [
    "name - ch. surya\n"
   ]
  },
  {
   "cell_type": "markdown",
   "metadata": {},
   "source": [
    "usn - 21btrcl025"
   ]
  },
  {
   "cell_type": "code",
   "execution_count": null,
   "metadata": {},
   "outputs": [],
   "source": []
  },
  {
   "cell_type": "code",
   "execution_count": null,
   "metadata": {},
   "outputs": [],
   "source": []
  },
  {
   "cell_type": "markdown",
   "metadata": {},
   "source": [
    "### 1.Collect Images Using OpenCV"
   ]
  },
  {
   "cell_type": "code",
   "execution_count": 1,
   "metadata": {
    "tags": []
   },
   "outputs": [],
   "source": [
    "import os\n",
    "import time\n",
    "import uuid\n",
    "import cv2\n",
    "import matplotlib.pyplot as plt\n",
    "import matplotlib.image as mpimg\n",
    "import numpy as np\n"
   ]
  },
  {
   "cell_type": "markdown",
   "metadata": {},
   "source": [
    "# 2. Review Dataset and Build Image Loading Function"
   ]
  },
  {
   "cell_type": "markdown",
   "metadata": {},
   "source": [
    "### 2.1 Import TF and Deps"
   ]
  },
  {
   "cell_type": "code",
   "execution_count": 2,
   "metadata": {
    "tags": []
   },
   "outputs": [
    {
     "name": "stdout",
     "output_type": "stream",
     "text": [
      "WARNING:tensorflow:From C:\\Users\\chsur\\anaconda3\\Lib\\site-packages\\keras\\src\\losses.py:2976: The name tf.losses.sparse_softmax_cross_entropy is deprecated. Please use tf.compat.v1.losses.sparse_softmax_cross_entropy instead.\n",
      "\n"
     ]
    }
   ],
   "source": [
    "import tensorflow as tf\n",
    "import json\n",
    "import numpy as np\n",
    "from matplotlib import pyplot as plt"
   ]
  },
  {
   "cell_type": "markdown",
   "metadata": {},
   "source": [
    "### 2.2 Limit GPU Memory Growth"
   ]
  },
  {
   "cell_type": "code",
   "execution_count": 3,
   "metadata": {
    "tags": []
   },
   "outputs": [],
   "source": [
    "# Avoid OOM errors by setting GPU Memory Consumption Growth\n",
    "gpus = tf.config.experimental.list_physical_devices('GPU')\n",
    "for gpu in gpus: \n",
    "    tf.config.experimental.set_memory_growth(gpu, True)"
   ]
  },
  {
   "cell_type": "code",
   "execution_count": 4,
   "metadata": {
    "tags": []
   },
   "outputs": [
    {
     "data": {
      "text/plain": [
       "[]"
      ]
     },
     "execution_count": 4,
     "metadata": {},
     "output_type": "execute_result"
    }
   ],
   "source": [
    "tf.config.list_physical_devices('GPU')"
   ]
  },
  {
   "cell_type": "markdown",
   "metadata": {},
   "source": [
    "### 2.3 Load Image into TF Data Pipeline"
   ]
  },
  {
   "cell_type": "code",
   "execution_count": 5,
   "metadata": {
    "tags": []
   },
   "outputs": [],
   "source": [
    "images = tf.data.Dataset.list_files('C:\\\\Users\\\\chsur\\\\cv\\data\\\\images\\\\*.jpg')"
   ]
  },
  {
   "cell_type": "code",
   "execution_count": 6,
   "metadata": {},
   "outputs": [
    {
     "data": {
      "text/plain": [
       "b'C:\\\\Users\\\\chsur\\\\cv\\\\data\\\\images\\\\IMG20221004161838.jpg'"
      ]
     },
     "execution_count": 6,
     "metadata": {},
     "output_type": "execute_result"
    }
   ],
   "source": [
    "images.as_numpy_iterator().next()"
   ]
  },
  {
   "cell_type": "code",
   "execution_count": 7,
   "metadata": {
    "tags": []
   },
   "outputs": [],
   "source": [
    "def load_image(x): \n",
    "    byte_img = tf.io.read_file(x)\n",
    "    img = tf.io.decode_jpeg(byte_img)\n",
    "    return img"
   ]
  },
  {
   "cell_type": "code",
   "execution_count": 8,
   "metadata": {
    "tags": []
   },
   "outputs": [],
   "source": [
    "images = images.map(load_image)"
   ]
  },
  {
   "cell_type": "code",
   "execution_count": 9,
   "metadata": {
    "scrolled": true,
    "tags": []
   },
   "outputs": [
    {
     "data": {
      "text/plain": [
       "array([[[120,  51,  56],\n",
       "        [ 90,  31,  33],\n",
       "        [ 87,  47,  47],\n",
       "        ...,\n",
       "        [136,  62,  23],\n",
       "        [137,  65,  27],\n",
       "        [137,  65,  27]],\n",
       "\n",
       "       [[112,  43,  48],\n",
       "        [ 92,  33,  35],\n",
       "        [ 86,  46,  46],\n",
       "        ...,\n",
       "        [136,  62,  23],\n",
       "        [140,  68,  30],\n",
       "        [142,  70,  32]],\n",
       "\n",
       "       [[103,  37,  41],\n",
       "        [ 98,  39,  41],\n",
       "        [ 94,  54,  54],\n",
       "        ...,\n",
       "        [148,  76,  36],\n",
       "        [153,  81,  41],\n",
       "        [155,  83,  43]],\n",
       "\n",
       "       ...,\n",
       "\n",
       "       [[112, 117,  76],\n",
       "        [ 94,  99,  58],\n",
       "        [ 79,  84,  43],\n",
       "        ...,\n",
       "        [181, 178, 169],\n",
       "        [181, 178, 169],\n",
       "        [180, 177, 168]],\n",
       "\n",
       "       [[ 80,  83,  40],\n",
       "        [ 87,  90,  47],\n",
       "        [ 88,  94,  50],\n",
       "        ...,\n",
       "        [179, 176, 167],\n",
       "        [179, 176, 167],\n",
       "        [178, 175, 166]],\n",
       "\n",
       "       [[ 88,  91,  48],\n",
       "        [103, 106,  63],\n",
       "        [117, 123,  79],\n",
       "        ...,\n",
       "        [179, 176, 167],\n",
       "        [179, 176, 167],\n",
       "        [178, 175, 166]]], dtype=uint8)"
      ]
     },
     "execution_count": 9,
     "metadata": {},
     "output_type": "execute_result"
    }
   ],
   "source": [
    "images.as_numpy_iterator().next()"
   ]
  },
  {
   "cell_type": "code",
   "execution_count": 10,
   "metadata": {},
   "outputs": [
    {
     "data": {
      "text/plain": [
       "tensorflow.python.data.ops.map_op._MapDataset"
      ]
     },
     "execution_count": 10,
     "metadata": {},
     "output_type": "execute_result"
    }
   ],
   "source": [
    "type(images)"
   ]
  },
  {
   "cell_type": "markdown",
   "metadata": {},
   "source": [
    "### 2.4 View Raw Images with Matplotlib"
   ]
  },
  {
   "cell_type": "code",
   "execution_count": 11,
   "metadata": {
    "tags": []
   },
   "outputs": [],
   "source": [
    "#image_generator = images.batch(4).as_numpy_iterator()"
   ]
  },
  {
   "cell_type": "code",
   "execution_count": 15,
   "metadata": {
    "tags": []
   },
   "outputs": [
    {
     "ename": "InvalidArgumentError",
     "evalue": "{{function_node __wrapped__IteratorGetNext_output_types_1_device_/job:localhost/replica:0/task:0/device:CPU:0}} Cannot add tensor to the batch: number of elements does not match. Shapes are: [tensor]: [4624,3468,3], [batch]: [2600,4624,3] [Op:IteratorGetNext] name: ",
     "output_type": "error",
     "traceback": [
      "\u001b[1;31m---------------------------------------------------------------------------\u001b[0m",
      "\u001b[1;31mInvalidArgumentError\u001b[0m                      Traceback (most recent call last)",
      "Cell \u001b[1;32mIn[15], line 2\u001b[0m\n\u001b[0;32m      1\u001b[0m image_generator \u001b[38;5;241m=\u001b[39m images\u001b[38;5;241m.\u001b[39mbatch(\u001b[38;5;241m32\u001b[39m)\u001b[38;5;241m.\u001b[39mas_numpy_iterator()\n\u001b[1;32m----> 2\u001b[0m plot_images \u001b[38;5;241m=\u001b[39m image_generator\u001b[38;5;241m.\u001b[39mnext()\n",
      "File \u001b[1;32m~\\anaconda3\\Lib\\site-packages\\tensorflow\\python\\data\\ops\\dataset_ops.py:4736\u001b[0m, in \u001b[0;36mNumpyIterator.next\u001b[1;34m(self)\u001b[0m\n\u001b[0;32m   4735\u001b[0m \u001b[38;5;28;01mdef\u001b[39;00m \u001b[38;5;21mnext\u001b[39m(\u001b[38;5;28mself\u001b[39m):\n\u001b[1;32m-> 4736\u001b[0m   \u001b[38;5;28;01mreturn\u001b[39;00m \u001b[38;5;28mself\u001b[39m\u001b[38;5;241m.\u001b[39m\u001b[38;5;21m__next__\u001b[39m()\n",
      "File \u001b[1;32m~\\anaconda3\\Lib\\site-packages\\tensorflow\\python\\data\\ops\\dataset_ops.py:4733\u001b[0m, in \u001b[0;36mNumpyIterator.__next__\u001b[1;34m(self)\u001b[0m\n\u001b[0;32m   4730\u001b[0m     numpy\u001b[38;5;241m.\u001b[39msetflags(write\u001b[38;5;241m=\u001b[39m\u001b[38;5;28;01mFalse\u001b[39;00m)\n\u001b[0;32m   4731\u001b[0m   \u001b[38;5;28;01mreturn\u001b[39;00m numpy\n\u001b[1;32m-> 4733\u001b[0m \u001b[38;5;28;01mreturn\u001b[39;00m nest\u001b[38;5;241m.\u001b[39mmap_structure(to_numpy, \u001b[38;5;28mnext\u001b[39m(\u001b[38;5;28mself\u001b[39m\u001b[38;5;241m.\u001b[39m_iterator))\n",
      "File \u001b[1;32m~\\anaconda3\\Lib\\site-packages\\tensorflow\\python\\data\\ops\\iterator_ops.py:810\u001b[0m, in \u001b[0;36mOwnedIterator.__next__\u001b[1;34m(self)\u001b[0m\n\u001b[0;32m    808\u001b[0m \u001b[38;5;28;01mdef\u001b[39;00m \u001b[38;5;21m__next__\u001b[39m(\u001b[38;5;28mself\u001b[39m):\n\u001b[0;32m    809\u001b[0m   \u001b[38;5;28;01mtry\u001b[39;00m:\n\u001b[1;32m--> 810\u001b[0m     \u001b[38;5;28;01mreturn\u001b[39;00m \u001b[38;5;28mself\u001b[39m\u001b[38;5;241m.\u001b[39m_next_internal()\n\u001b[0;32m    811\u001b[0m   \u001b[38;5;28;01mexcept\u001b[39;00m errors\u001b[38;5;241m.\u001b[39mOutOfRangeError:\n\u001b[0;32m    812\u001b[0m     \u001b[38;5;28;01mraise\u001b[39;00m \u001b[38;5;167;01mStopIteration\u001b[39;00m\n",
      "File \u001b[1;32m~\\anaconda3\\Lib\\site-packages\\tensorflow\\python\\data\\ops\\iterator_ops.py:773\u001b[0m, in \u001b[0;36mOwnedIterator._next_internal\u001b[1;34m(self)\u001b[0m\n\u001b[0;32m    770\u001b[0m \u001b[38;5;66;03m# TODO(b/77291417): This runs in sync mode as iterators use an error status\u001b[39;00m\n\u001b[0;32m    771\u001b[0m \u001b[38;5;66;03m# to communicate that there is no more data to iterate over.\u001b[39;00m\n\u001b[0;32m    772\u001b[0m \u001b[38;5;28;01mwith\u001b[39;00m context\u001b[38;5;241m.\u001b[39mexecution_mode(context\u001b[38;5;241m.\u001b[39mSYNC):\n\u001b[1;32m--> 773\u001b[0m   ret \u001b[38;5;241m=\u001b[39m gen_dataset_ops\u001b[38;5;241m.\u001b[39miterator_get_next(\n\u001b[0;32m    774\u001b[0m       \u001b[38;5;28mself\u001b[39m\u001b[38;5;241m.\u001b[39m_iterator_resource,\n\u001b[0;32m    775\u001b[0m       output_types\u001b[38;5;241m=\u001b[39m\u001b[38;5;28mself\u001b[39m\u001b[38;5;241m.\u001b[39m_flat_output_types,\n\u001b[0;32m    776\u001b[0m       output_shapes\u001b[38;5;241m=\u001b[39m\u001b[38;5;28mself\u001b[39m\u001b[38;5;241m.\u001b[39m_flat_output_shapes)\n\u001b[0;32m    778\u001b[0m   \u001b[38;5;28;01mtry\u001b[39;00m:\n\u001b[0;32m    779\u001b[0m     \u001b[38;5;66;03m# Fast path for the case `self._structure` is not a nested structure.\u001b[39;00m\n\u001b[0;32m    780\u001b[0m     \u001b[38;5;28;01mreturn\u001b[39;00m \u001b[38;5;28mself\u001b[39m\u001b[38;5;241m.\u001b[39m_element_spec\u001b[38;5;241m.\u001b[39m_from_compatible_tensor_list(ret)  \u001b[38;5;66;03m# pylint: disable=protected-access\u001b[39;00m\n",
      "File \u001b[1;32m~\\anaconda3\\Lib\\site-packages\\tensorflow\\python\\ops\\gen_dataset_ops.py:3029\u001b[0m, in \u001b[0;36miterator_get_next\u001b[1;34m(iterator, output_types, output_shapes, name)\u001b[0m\n\u001b[0;32m   3027\u001b[0m   \u001b[38;5;28;01mreturn\u001b[39;00m _result\n\u001b[0;32m   3028\u001b[0m \u001b[38;5;28;01mexcept\u001b[39;00m _core\u001b[38;5;241m.\u001b[39m_NotOkStatusException \u001b[38;5;28;01mas\u001b[39;00m e:\n\u001b[1;32m-> 3029\u001b[0m   _ops\u001b[38;5;241m.\u001b[39mraise_from_not_ok_status(e, name)\n\u001b[0;32m   3030\u001b[0m \u001b[38;5;28;01mexcept\u001b[39;00m _core\u001b[38;5;241m.\u001b[39m_FallbackException:\n\u001b[0;32m   3031\u001b[0m   \u001b[38;5;28;01mpass\u001b[39;00m\n",
      "File \u001b[1;32m~\\anaconda3\\Lib\\site-packages\\tensorflow\\python\\framework\\ops.py:5883\u001b[0m, in \u001b[0;36mraise_from_not_ok_status\u001b[1;34m(e, name)\u001b[0m\n\u001b[0;32m   5881\u001b[0m \u001b[38;5;28;01mdef\u001b[39;00m \u001b[38;5;21mraise_from_not_ok_status\u001b[39m(e, name) \u001b[38;5;241m-\u001b[39m\u001b[38;5;241m>\u001b[39m NoReturn:\n\u001b[0;32m   5882\u001b[0m   e\u001b[38;5;241m.\u001b[39mmessage \u001b[38;5;241m+\u001b[39m\u001b[38;5;241m=\u001b[39m (\u001b[38;5;124m\"\u001b[39m\u001b[38;5;124m name: \u001b[39m\u001b[38;5;124m\"\u001b[39m \u001b[38;5;241m+\u001b[39m \u001b[38;5;28mstr\u001b[39m(name \u001b[38;5;28;01mif\u001b[39;00m name \u001b[38;5;129;01mis\u001b[39;00m \u001b[38;5;129;01mnot\u001b[39;00m \u001b[38;5;28;01mNone\u001b[39;00m \u001b[38;5;28;01melse\u001b[39;00m \u001b[38;5;124m\"\u001b[39m\u001b[38;5;124m\"\u001b[39m))\n\u001b[1;32m-> 5883\u001b[0m   \u001b[38;5;28;01mraise\u001b[39;00m core\u001b[38;5;241m.\u001b[39m_status_to_exception(e) \u001b[38;5;28;01mfrom\u001b[39;00m \u001b[38;5;28;01mNone\u001b[39;00m\n",
      "\u001b[1;31mInvalidArgumentError\u001b[0m: {{function_node __wrapped__IteratorGetNext_output_types_1_device_/job:localhost/replica:0/task:0/device:CPU:0}} Cannot add tensor to the batch: number of elements does not match. Shapes are: [tensor]: [4624,3468,3], [batch]: [2600,4624,3] [Op:IteratorGetNext] name: "
     ]
    }
   ],
   "source": [
    "image_generator = images.batch(32).as_numpy_iterator()\n",
    "plot_images = image_generator.next()"
   ]
  },
  {
   "cell_type": "code",
   "execution_count": 16,
   "metadata": {
    "tags": []
   },
   "outputs": [
    {
     "data": {
      "image/png": "[encoded data removed]",
      "text/plain": [
       "<Figure size 2000x2000 with 4 Axes>"
      ]
     },
     "metadata": {},
     "output_type": "display_data"
    }
   ],
   "source": [
    "fig, ax = plt.subplots(ncols=4, figsize=(20,20))\n",
    "for idx, image in enumerate(plot_images):\n",
    "    ax[idx].imshow(image) \n",
    "    plt.show()"
   ]
  },
  {
   "cell_type": "markdown",
   "metadata": {},
   "source": [
    "# 3. Partition Unaugmented Data"
   ]
  },
  {
   "cell_type": "markdown",
   "metadata": {},
   "source": [
    "### 3.1 MANUALLY SPLT DATA INTO TRAIN TEST AND VAL"
   ]
  },
  {
   "cell_type": "code",
   "execution_count": 14,
   "metadata": {},
   "outputs": [
    {
     "data": {
      "text/plain": [
       "210.0"
      ]
     },
     "execution_count": 14,
     "metadata": {},
     "output_type": "execute_result"
    }
   ],
   "source": [
    "300*.7 # 63 to train"
   ]
  },
  {
   "cell_type": "code",
   "execution_count": 15,
   "metadata": {},
   "outputs": [
    {
     "data": {
      "text/plain": [
       "45.0"
      ]
     },
     "execution_count": 15,
     "metadata": {},
     "output_type": "execute_result"
    }
   ],
   "source": [
    "300*.15 # 14 and 13 to test and val"
   ]
  },
  {
   "cell_type": "markdown",
   "metadata": {},
   "source": [
    "### 3.2 Move the Matching Labels"
   ]
  },
  {
   "cell_type": "code",
   "execution_count": 16,
   "metadata": {
    "tags": []
   },
   "outputs": [],
   "source": [
    "import os\n",
    "for folder in ['train','test','val']:\n",
    "    for file in os.listdir(os.path.join('C:\\\\Users\\\\chsur\\\\cv\\\\data', folder, 'images')):\n",
    "        \n",
    "        filename = file.split('.')[0]+'.json'\n",
    "        existing_filepath = os.path.join('C:\\\\Users\\\\chsur\\\\cv\\\\data','labels', filename)\n",
    "        if os.path.exists(existing_filepath): \n",
    "            new_filepath = os.path.join('C:\\\\Users\\\\chsur\\\\cv\\\\data',folder,'labels',filename)\n",
    "            os.replace(existing_filepath, new_filepath)      "
   ]
  },
  {
   "cell_type": "markdown",
   "metadata": {},
   "source": [
    "# 4. Apply Image Augmentation on Images and Labels using Albumentations"
   ]
  },
  {
   "cell_type": "markdown",
   "metadata": {},
   "source": [
    "### 4.1 Setup Albumentations Transform Pipeline"
   ]
  },
  {
   "cell_type": "code",
   "execution_count": 17,
   "metadata": {
    "tags": []
   },
   "outputs": [],
   "source": [
    "import albumentations as alb"
   ]
  },
  {
   "cell_type": "code",
   "execution_count": 18,
   "metadata": {
    "tags": []
   },
   "outputs": [],
   "source": [
    "augmentor = alb.Compose([alb.RandomCrop(width=450, height=450), \n",
    "                         alb.HorizontalFlip(p=0.5), \n",
    "                         alb.RandomBrightnessContrast(p=0.2),\n",
    "                         alb.RandomGamma(p=0.2), \n",
    "                         alb.RGBShift(p=0.2), \n",
    "                         alb.VerticalFlip(p=0.5)], \n",
    "                       bbox_params=alb.BboxParams(format='albumentations', \n",
    "                                                  label_fields=['class_labels']))"
   ]
  },
  {
   "cell_type": "markdown",
   "metadata": {},
   "source": [
    "### 4.2 Load a Test Image and Annotation with OpenCV and JSON"
   ]
  },
  {
   "cell_type": "code",
   "execution_count": 19,
   "metadata": {
    "tags": []
   },
   "outputs": [],
   "source": [
    "img = cv2.imread(os.path.join('C:\\\\Users\\\\chsur\\\\cv\\\\data','train', 'images','IMG-20221007-WA0145.jpg'))"
   ]
  },
  {
   "cell_type": "code",
   "execution_count": 20,
   "metadata": {
    "tags": []
   },
   "outputs": [],
   "source": [
    "with open(os.path.join('C:\\\\Users\\\\chsur\\\\cv\\\\data', 'train', 'labels', 'IMG-20221007-WA0145.json'), 'r') as f:\n",
    "    label = json.load(f)"
   ]
  },
  {
   "cell_type": "code",
   "execution_count": 45,
   "metadata": {},
   "outputs": [
    {
     "data": {
      "text/plain": [
       "[[195.11111111111086, 1300.8888888888887],\n",
       " [2711.7777777777774, 4256.444444444444]]"
      ]
     },
     "execution_count": 45,
     "metadata": {},
     "output_type": "execute_result"
    }
   ],
   "source": [
    "label['shapes'][0]['points']"
   ]
  },
  {
   "cell_type": "markdown",
   "metadata": {},
   "source": [
    "### 4.3 Extract Coordinates and Rescale to Match Image Resolution"
   ]
  },
  {
   "cell_type": "code",
   "execution_count": 46,
   "metadata": {
    "tags": []
   },
   "outputs": [],
   "source": [
    "coords = [0,0,0,0]\n",
    "coords[0] = label['shapes'][0]['points'][0][0]\n",
    "coords[1] = label['shapes'][0]['points'][0][1]\n",
    "coords[2] = label['shapes'][0]['points'][1][0]\n",
    "coords[3] = label['shapes'][0]['points'][1][1]"
   ]
  },
  {
   "cell_type": "code",
   "execution_count": 47,
   "metadata": {},
   "outputs": [
    {
     "data": {
      "text/plain": [
       "[195.11111111111086, 1300.8888888888887, 2711.7777777777774, 4256.444444444444]"
      ]
     },
     "execution_count": 47,
     "metadata": {},
     "output_type": "execute_result"
    }
   ],
   "source": [
    "coords"
   ]
  },
  {
   "cell_type": "code",
   "execution_count": 48,
   "metadata": {
    "tags": []
   },
   "outputs": [],
   "source": [
    "coords = list(np.divide(coords, [640,680,640,580]))"
   ]
  },
  {
   "cell_type": "code",
   "execution_count": 49,
   "metadata": {},
   "outputs": [
    {
     "data": {
      "text/plain": [
       "[0.3048611111111107, 1.9130718954248362, 4.237152777777777, 7.338697318007663]"
      ]
     },
     "execution_count": 49,
     "metadata": {},
     "output_type": "execute_result"
    }
   ],
   "source": [
    "coords"
   ]
  },
  {
   "cell_type": "code",
   "execution_count": null,
   "metadata": {},
   "outputs": [],
   "source": []
  },
  {
   "cell_type": "code",
   "execution_count": null,
   "metadata": {},
   "outputs": [],
   "source": []
  },
  {
   "cell_type": "code",
   "execution_count": null,
   "metadata": {},
   "outputs": [],
   "source": []
  },
  {
   "cell_type": "code",
   "execution_count": null,
   "metadata": {},
   "outputs": [],
   "source": []
  },
  {
   "cell_type": "code",
   "execution_count": 28,
   "metadata": {},
   "outputs": [],
   "source": [
    "\n",
    "# Assuming you have an image 'img' and bounding box coordinates 'coords'\n",
    "# coords = [x_min, y_min, x_max, y_max]\n",
    "\n",
    "# Normalize the bounding box coordinates\n",
    "image_width = 640\n",
    "image_height = 480\n",
    "normalized_coords = np.divide(coords, [image_width, image_height, image_width, image_height])\n",
    "\n",
    "# Create an augmentation pipeline (you can customize this as needed)\n",
    "  # Example augmentation\n",
    "    # Add more augmentations here\n",
    "\n",
    "\n",
    "# Augment the image with the bounding box\n",
    "augmented = augmentor(image=img, bboxes=[coords], class_labels=['SURYA'])\n"
   ]
  },
  {
   "cell_type": "code",
   "execution_count": 29,
   "metadata": {},
   "outputs": [
    {
     "data": {
      "text/plain": [
       "{'image': array([[[ 76,  76,  68],\n",
       "         [ 72,  70,  62],\n",
       "         [ 72,  70,  62],\n",
       "         ...,\n",
       "         [255, 255, 255],\n",
       "         [255, 255, 255],\n",
       "         [255, 255, 255]],\n",
       " \n",
       "        [[ 70,  68,  60],\n",
       "         [ 70,  69,  58],\n",
       "         [ 70,  69,  58],\n",
       "         ...,\n",
       "         [255, 255, 255],\n",
       "         [255, 255, 255],\n",
       "         [255, 255, 255]],\n",
       " \n",
       "        [[ 70,  68,  60],\n",
       "         [ 70,  69,  58],\n",
       "         [ 72,  68,  58],\n",
       "         ...,\n",
       "         [255, 255, 255],\n",
       "         [255, 255, 255],\n",
       "         [255, 255, 255]],\n",
       " \n",
       "        ...,\n",
       " \n",
       "        [[105, 110, 111],\n",
       "         [ 56,  61,  62],\n",
       "         [ 42,  47,  48],\n",
       "         ...,\n",
       "         [255, 255, 255],\n",
       "         [255, 255, 255],\n",
       "         [255, 255, 255]],\n",
       " \n",
       "        [[ 41,  46,  47],\n",
       "         [ 42,  47,  48],\n",
       "         [ 45,  50,  51],\n",
       "         ...,\n",
       "         [255, 255, 255],\n",
       "         [255, 255, 255],\n",
       "         [255, 255, 255]],\n",
       " \n",
       "        [[ 58,  62,  60],\n",
       "         [ 15,  18,  16],\n",
       "         [ 95,  99,  97],\n",
       "         ...,\n",
       "         [255, 255, 255],\n",
       "         [255, 255, 255],\n",
       "         [255, 255, 255]]], dtype=uint8),\n",
       " 'bboxes': [],\n",
       " 'class_labels': []}"
      ]
     },
     "execution_count": 29,
     "metadata": {},
     "output_type": "execute_result"
    }
   ],
   "source": [
    "augmented"
   ]
  },
  {
   "cell_type": "code",
   "execution_count": null,
   "metadata": {},
   "outputs": [],
   "source": []
  },
  {
   "cell_type": "markdown",
   "metadata": {},
   "source": [
    "### 4.4 Apply Augmentations and View Results"
   ]
  },
  {
   "cell_type": "code",
   "execution_count": 30,
   "metadata": {
    "tags": []
   },
   "outputs": [],
   "source": [
    "augmented = augmentor(image=img, bboxes=[coords], class_labels=['SURYA'])"
   ]
  },
  {
   "cell_type": "code",
   "execution_count": 31,
   "metadata": {},
   "outputs": [
    {
     "data": {
      "text/plain": [
       "{'image': array([[[ 42,  47,  38],\n",
       "         [ 42,  47,  38],\n",
       "         [ 43,  48,  39],\n",
       "         ...,\n",
       "         [221, 241, 246],\n",
       "         [225, 245, 250],\n",
       "         [230, 250, 255]],\n",
       " \n",
       "        [[ 41,  46,  37],\n",
       "         [ 42,  47,  38],\n",
       "         [ 42,  47,  38],\n",
       "         ...,\n",
       "         [227, 247, 252],\n",
       "         [229, 248, 253],\n",
       "         [229, 248, 253]],\n",
       " \n",
       "        [[ 45,  51,  40],\n",
       "         [ 46,  52,  41],\n",
       "         [ 47,  53,  42],\n",
       "         ...,\n",
       "         [227, 243, 249],\n",
       "         [228, 244, 250],\n",
       "         [229, 246, 249]],\n",
       " \n",
       "        ...,\n",
       " \n",
       "        [[ 62,  57,  54],\n",
       "         [ 62,  59,  55],\n",
       "         [ 64,  61,  57],\n",
       "         ...,\n",
       "         [253, 255, 255],\n",
       "         [253, 255, 255],\n",
       "         [253, 255, 255]],\n",
       " \n",
       "        [[ 62,  57,  54],\n",
       "         [ 62,  59,  55],\n",
       "         [ 64,  61,  57],\n",
       "         ...,\n",
       "         [253, 255, 255],\n",
       "         [253, 255, 255],\n",
       "         [253, 255, 255]],\n",
       " \n",
       "        [[ 62,  57,  56],\n",
       "         [ 62,  58,  57],\n",
       "         [ 64,  60,  59],\n",
       "         ...,\n",
       "         [253, 255, 255],\n",
       "         [253, 255, 255],\n",
       "         [253, 255, 255]]], dtype=uint8),\n",
       " 'bboxes': [],\n",
       " 'class_labels': []}"
      ]
     },
     "execution_count": 31,
     "metadata": {},
     "output_type": "execute_result"
    }
   ],
   "source": [
    "augmented\n"
   ]
  },
  {
   "cell_type": "code",
   "execution_count": 32,
   "metadata": {
    "tags": []
   },
   "outputs": [
    {
     "ename": "IndexError",
     "evalue": "list index out of range",
     "output_type": "error",
     "traceback": [
      "\u001b[1;31m---------------------------------------------------------------------------\u001b[0m",
      "\u001b[1;31mIndexError\u001b[0m                                Traceback (most recent call last)",
      "Cell \u001b[1;32mIn[32], line 1\u001b[0m\n\u001b[1;32m----> 1\u001b[0m augmented[\u001b[38;5;124m'\u001b[39m\u001b[38;5;124mbboxes\u001b[39m\u001b[38;5;124m'\u001b[39m][\u001b[38;5;241m0\u001b[39m][\u001b[38;5;241m2\u001b[39m:]\n",
      "\u001b[1;31mIndexError\u001b[0m: list index out of range"
     ]
    }
   ],
   "source": [
    "augmented['bboxes'][0][2:]"
   ]
  },
  {
   "cell_type": "code",
   "execution_count": 34,
   "metadata": {},
   "outputs": [
    {
     "data": {
      "text/plain": [
       "[]"
      ]
     },
     "execution_count": 34,
     "metadata": {},
     "output_type": "execute_result"
    }
   ],
   "source": [
    "augmented['bboxes']"
   ]
  },
  {
   "cell_type": "code",
   "execution_count": 35,
   "metadata": {
    "tags": []
   },
   "outputs": [
    {
     "ename": "IndexError",
     "evalue": "list index out of range",
     "output_type": "error",
     "traceback": [
      "\u001b[1;31m---------------------------------------------------------------------------\u001b[0m",
      "\u001b[1;31mIndexError\u001b[0m                                Traceback (most recent call last)",
      "Cell \u001b[1;32mIn[35], line 2\u001b[0m\n\u001b[0;32m      1\u001b[0m cv2\u001b[38;5;241m.\u001b[39mrectangle(augmented[\u001b[38;5;124m'\u001b[39m\u001b[38;5;124mimage\u001b[39m\u001b[38;5;124m'\u001b[39m], \n\u001b[1;32m----> 2\u001b[0m               \u001b[38;5;28mtuple\u001b[39m(np\u001b[38;5;241m.\u001b[39mmultiply(augmented[\u001b[38;5;124m'\u001b[39m\u001b[38;5;124mbboxes\u001b[39m\u001b[38;5;124m'\u001b[39m][\u001b[38;5;241m0\u001b[39m][\u001b[38;5;241m2\u001b[39m:], [\u001b[38;5;241m450\u001b[39m,\u001b[38;5;241m450\u001b[39m])\u001b[38;5;241m.\u001b[39mastype(\u001b[38;5;28mint\u001b[39m)),\n\u001b[0;32m      3\u001b[0m               \u001b[38;5;28mtuple\u001b[39m(np\u001b[38;5;241m.\u001b[39mmultiply(augmented[\u001b[38;5;124m'\u001b[39m\u001b[38;5;124mbboxes\u001b[39m\u001b[38;5;124m'\u001b[39m][\u001b[38;5;241m0\u001b[39m][:\u001b[38;5;241m2\u001b[39m], [\u001b[38;5;241m450\u001b[39m,\u001b[38;5;241m450\u001b[39m])\u001b[38;5;241m.\u001b[39mastype(\u001b[38;5;28mint\u001b[39m)), \n\u001b[0;32m      4\u001b[0m               (\u001b[38;5;241m255\u001b[39m,\u001b[38;5;241m0\u001b[39m,\u001b[38;5;241m0\u001b[39m), \u001b[38;5;241m2\u001b[39m)\n\u001b[0;32m      6\u001b[0m plt\u001b[38;5;241m.\u001b[39mimshow(augmented[\u001b[38;5;124m'\u001b[39m\u001b[38;5;124mimage\u001b[39m\u001b[38;5;124m'\u001b[39m])\n",
      "\u001b[1;31mIndexError\u001b[0m: list index out of range"
     ]
    }
   ],
   "source": [
    "cv2.rectangle(augmented['image'], \n",
    "              tuple(np.multiply(augmented['bboxes'][0][2:], [450,450]).astype(int)),\n",
    "              tuple(np.multiply(augmented['bboxes'][0][:2], [450,450]).astype(int)), \n",
    "              (255,0,0), 2)\n",
    "\n",
    "plt.imshow(augmented['image'])"
   ]
  },
  {
   "cell_type": "code",
   "execution_count": null,
   "metadata": {},
   "outputs": [],
   "source": []
  },
  {
   "cell_type": "code",
   "execution_count": 36,
   "metadata": {},
   "outputs": [
    {
     "name": "stdout",
     "output_type": "stream",
     "text": [
      "No bounding boxes found in the augmented data.\n"
     ]
    }
   ],
   "source": [
    "if augmented['bboxes']:\n",
    "    # Access the bounding box coordinates\n",
    "    bbox = augmented['bboxes'][0]\n",
    "    # Rest of your code...\n",
    "else:\n",
    "    print(\"No bounding boxes found in the augmented data.\")\n"
   ]
  },
  {
   "cell_type": "code",
   "execution_count": null,
   "metadata": {},
   "outputs": [],
   "source": []
  },
  {
   "cell_type": "code",
   "execution_count": null,
   "metadata": {},
   "outputs": [],
   "source": []
  },
  {
   "cell_type": "code",
   "execution_count": null,
   "metadata": {},
   "outputs": [],
   "source": []
  },
  {
   "cell_type": "markdown",
   "metadata": {},
   "source": [
    "# 5. Build and Run Augmentation Pipeline"
   ]
  },
  {
   "cell_type": "markdown",
   "metadata": {},
   "source": [
    "### 5.1 Run Augmentation Pipeline"
   ]
  },
  {
   "cell_type": "code",
   "execution_count": 44,
   "metadata": {
    "tags": []
   },
   "outputs": [
    {
     "name": "stdout",
     "output_type": "stream",
     "text": [
      "Expected y_min for bbox [0.9526785714285708, 2.4702380952380953, 1.9422619047619043, 4.0773809523809526, 'face'] to be in the range [0.0, 1.0], got 2.4702380952380953.\n",
      "Expected x_max for bbox [0.6134259259259258, 0.91820987654321, 1.3483796296296295, 2.0871913580246915, 'face'] to be in the range [0.0, 1.0], got 1.3483796296296295.\n",
      "Expected y_min for bbox [0.6242559523809523, 1.0337301587301588, 0.719122023809524, 1.1701388888888888, 'face'] to be in the range [0.0, 1.0], got 1.0337301587301588.\n",
      "Expected y_max for bbox [0.7181743421052632, 0.9669956140350877, 0.9936677631578947, 1.4467105263157893, 'face'] to be in the range [0.0, 1.0], got 1.4467105263157893.\n",
      "Expected y_min for bbox [0.7716282894736841, 1.0601973684210526, 1.0388980263157896, 1.5563596491228069, 'face'] to be in the range [0.0, 1.0], got 1.0601973684210526.\n",
      "Expected y_min for bbox [0.8127467105263155, 1.019078947368421, 1.0738486842105261, 1.5070175438596491, 'face'] to be in the range [0.0, 1.0], got 1.019078947368421.\n",
      "Expected y_max for bbox [0.47147277227722767, 0.8628712871287129, 0.8396658415841582, 1.4651815181518153, 'face'] to be in the range [0.0, 1.0], got 1.4651815181518153.\n",
      "Expected y_min for bbox [0.7592927631578947, 1.125986842105263, 1.1211348684210525, 1.6577850877192981, 'face'] to be in the range [0.0, 1.0], got 1.125986842105263.\n",
      "Expected y_min for bbox [0.0109375, 1.3589912280701753, 0.3337171052631579, 1.9209429824561401, 'face'] to be in the range [0.0, 1.0], got 1.3589912280701753.\n",
      "Expected x_min for bbox [1.0532894736842104, 1.101315789473684, 1.3484375, 1.628246729110913, 'face'] to be in the range [0.0, 1.0], got 1.0532894736842104.\n",
      "Expected x_min for bbox [2.0046955541237113, 0.6658397766323023, 2.0932909149484535, 0.8032968213058419, 'face'] to be in the range [0.0, 1.0], got 2.0046955541237113.\n",
      "Expected x_min for bbox [1.7807909149484538, 0.5520081615120275, 1.8597213273195876, 0.6744308419243986, 'face'] to be in the range [0.0, 1.0], got 1.7807909149484538.\n",
      "Expected x_min for bbox [1.4570151417525774, 0.8183311855670102, 1.6519249355670105, 1.1276095360824743, 'face'] to be in the range [0.0, 1.0], got 1.4570151417525774.\n",
      "Expected y_min for bbox [0.9222511574074076, 2.097723765432099, 1.087181712962963, 2.3832175925925925, 'face'] to be in the range [0.0, 1.0], got 2.097723765432099.\n",
      "Expected y_min for bbox [0.870167824074074, 2.132445987654321, 1.026417824074074, 2.3986496913580244, 'face'] to be in the range [0.0, 1.0], got 2.132445987654321.\n",
      "Expected y_min for bbox [0.85859375, 2.1285879629629627, 1.0235243055555556, 2.402507716049383, 'face'] to be in the range [0.0, 1.0], got 2.1285879629629627.\n",
      "Expected x_min for bbox [1.453793492268041, 0.9343105670103092, 1.6470924613402065, 1.2414411512027492, 'face'] to be in the range [0.0, 1.0], got 1.453793492268041.\n",
      "Expected x_min for bbox [1.402247100515464, 0.925719501718213, 1.4892316365979381, 1.067472079037801, 'face'] to be in the range [0.0, 1.0], got 1.402247100515464.\n",
      "Expected y_min for bbox [0.8065104166666668, 1.5421682098765432, 0.9164641203703706, 1.7042052469135802, 'face'] to be in the range [0.0, 1.0], got 1.5421682098765432.\n",
      "Expected y_min for bbox [0.786255787037037, 1.1139274691358025, 0.8817418981481481, 1.2759645061728395, 'face'] to be in the range [0.0, 1.0], got 1.1139274691358025.\n",
      "Expected x_min for bbox [1.358754832474227, 0.8290700171821306, 1.442517719072165, 0.9772658934707903, 'face'] to be in the range [0.0, 1.0], got 1.358754832474227.\n",
      "Expected x_min for bbox [1.1139094716494846, 0.6937607388316152, 1.294321842783505, 1.0245167525773196, 'face'] to be in the range [0.0, 1.0], got 1.1139094716494846.\n",
      "Expected x_min for bbox [1.4231878221649485, 0.6873174398625429, 1.6809197809278351, 1.1490871993127147, 'face'] to be in the range [0.0, 1.0], got 1.4231878221649485.\n",
      "Expected x_min for bbox [1.4682909149484535, 0.8161834192439862, 1.6986388530927836, 1.2564755154639178, 'face'] to be in the range [0.0, 1.0], got 1.4682909149484535.\n",
      "Expected x_min for bbox [1.4715125644329896, 0.766784793814433, 1.6825306056701035, 1.2049291237113404, 'face'] to be in the range [0.0, 1.0], got 1.4715125644329896.\n",
      "Expected x_min for bbox [1.009205863402062, 0.7496026632302405, 1.207337306701031, 1.0524377147766324, 'face'] to be in the range [0.0, 1.0], got 1.009205863402062.\n",
      "Expected x_max for bbox [0.9882651417525773, 0.7496026632302405, 1.1799532860824742, 1.0567332474226805, 'face'] to be in the range [0.0, 1.0], got 1.1799532860824742.\n",
      "Expected x_min for bbox [1.25727287371134, 0.7947057560137457, 1.3523115335051545, 0.9686748281786941, 'face'] to be in the range [0.0, 1.0], got 1.25727287371134.\n",
      "Expected x_min for bbox [1.3925821520618558, 0.8161834192439862, 1.4940641108247423, 0.9901524914089347, 'face'] to be in the range [0.0, 1.0], got 1.3925821520618558.\n",
      "Expected x_min for bbox [1.6180976159793814, 0.8226267182130584, 1.7244120489690722, 0.9837091924398625, 'face'] to be in the range [0.0, 1.0], got 1.6180976159793814.\n",
      "Expected x_min for bbox [1.7936775128865983, 0.8269222508591064, 1.8677754510309281, 0.9686748281786941, 'face'] to be in the range [0.0, 1.0], got 1.7936775128865983.\n",
      "Expected y_min for bbox [0.8441261574074076, 1.5460262345679012, 0.942505787037037, 1.7157793209876542, 'face'] to be in the range [0.0, 1.0], got 1.5460262345679012.\n",
      "Expected x_min for bbox [1.4344635953608247, 0.8999463058419244, 1.5343347293814433, 1.0459944158075603, 'face'] to be in the range [0.0, 1.0], got 1.4344635953608247.\n",
      "Expected x_min for bbox [1.477955863402062, 0.6787263745704467, 1.7534068943298968, 1.1254617697594502, 'face'] to be in the range [0.0, 1.0], got 1.477955863402062.\n",
      "Expected x_min for bbox [1.6068218427835053, 0.652953178694158, 1.7582393685567013, 0.8935030068728522, 'face'] to be in the range [0.0, 1.0], got 1.6068218427835053.\n",
      "Expected x_min for bbox [1.5021182345360824, 1.1082796391752578, 1.7034713273195876, 1.4111146907216496, 'face'] to be in the range [0.0, 1.0], got 1.5021182345360824.\n",
      "Expected x_min for bbox [1.630984213917526, 0.6572487113402061, 1.7936775128865983, 0.8956507731958763, 'face'] to be in the range [0.0, 1.0], got 1.630984213917526.\n",
      "Expected x_min for bbox [1.6164867912371137, 0.6486576460481099, 1.7807909149484538, 0.882764175257732, 'face'] to be in the range [0.0, 1.0], got 1.6164867912371137.\n",
      "Expected x_min for bbox [1.6164867912371137, 0.7796713917525773, 1.7840125644329898, 1.003039089347079, 'face'] to be in the range [0.0, 1.0], got 1.6164867912371137.\n",
      "Expected x_min for bbox [1.6438708118556704, 0.7517504295532647, 1.8113965850515465, 0.9858569587628866, 'face'] to be in the range [0.0, 1.0], got 1.6438708118556704.\n",
      "Expected x_min for bbox [1.2782135953608247, 0.6959085051546392, 1.519837306701031, 1.0502899484536081, 'face'] to be in the range [0.0, 1.0], got 1.2782135953608247.\n",
      "Expected y_min for bbox [0.54609375, 1.1602237654320988, 0.8759548611111111, 1.661766975308642, 'face'] to be in the range [0.0, 1.0], got 1.1602237654320988.\n",
      "Expected x_min for bbox [1.2756849315068493, 0.6221461187214612, 1.3805650684931507, 0.7962328767123288, 'face'] to be in the range [0.0, 1.0], got 1.2756849315068493.\n",
      "Expected x_min for bbox [1.2200342465753427, 0.5993150684931507, 1.339897260273973, 0.7648401826484019, 'face'] to be in the range [0.0, 1.0], got 1.2200342465753427.\n",
      "Expected x_min for bbox [1.2778253424657535, 0.6478310502283106, 1.3741438356164384, 0.7962328767123288, 'face'] to be in the range [0.0, 1.0], got 1.2778253424657535.\n",
      "Expected x_min for bbox [1.2863869863013702, 0.6449771689497718, 1.4276541095890412, 0.870433789954338, 'face'] to be in the range [0.0, 1.0], got 1.2863869863013702.\n",
      "Expected x_min for bbox [1.0359589041095891, 0.6906392694063928, 1.2050513698630136, 0.91324200913242, 'face'] to be in the range [0.0, 1.0], got 1.0359589041095891.\n",
      "Expected y_max for bbox [0.32864010989010983, 0.9816849816849818, 0.4608516483516484, 1.206043956043956, 'face'] to be in the range [0.0, 1.0], got 1.206043956043956.\n",
      "Expected y_max for bbox [0.2822802197802197, 0.9977106227106227, 0.40590659340659335, 1.215201465201465, 'face'] to be in the range [0.0, 1.0], got 1.215201465201465.\n",
      "Expected y_max for bbox [0.2874313186813186, 0.9816849816849818, 0.4162087912087912, 1.1968864468864466, 'face'] to be in the range [0.0, 1.0], got 1.1968864468864466.\n",
      "Expected y_min for bbox [0.20501373626373623, 1.0595238095238095, 0.33722527472527464, 1.2793040293040292, 'face'] to be in the range [0.0, 1.0], got 1.0595238095238095.\n",
      "Expected x_min for bbox [1.0916095890410957, 0.716324200913242, 1.2521404109589043, 0.9332191780821918, 'face'] to be in the range [0.0, 1.0], got 1.0916095890410957.\n",
      "Expected x_min for bbox [1.5517979452054795, 0.5907534246575342, 1.7059075342465753, 0.821917808219178, 'face'] to be in the range [0.0, 1.0], got 1.5517979452054795.\n",
      "Expected y_min for bbox [0.8161147388059703, 1.5863184079601989, 1.2732042910447763, 2.2393034825870646, 'face'] to be in the range [0.0, 1.0], got 1.5863184079601989.\n"
     ]
    },
    {
     "name": "stdout",
     "output_type": "stream",
     "text": [
      "Expected y_max for bbox [0.7928240740740741, 0.7330246913580247, 0.9664351851851851, 1.0609567901234567, 'face'] to be in the range [0.0, 1.0], got 1.0609567901234567.\n",
      "Expected x_min for bbox [1.1160714285714286, 0.22321428571428573, 1.2627551020408165, 0.4719387755102041, 'face'] to be in the range [0.0, 1.0], got 1.1160714285714286.\n",
      "Expected x_min for bbox [4.424189814814815, 0.4665895061728397, 4.895833333333333, 1.2304783950617284, 'face'] to be in the range [0.0, 1.0], got 4.424189814814815.\n",
      "Expected x_min for bbox [2.2635912698412697, 2.6650132275132274, 2.5562499999999995, 3.1081349206349205, 'face'] to be in the range [0.0, 1.0], got 2.2635912698412697.\n",
      "Expected x_min for bbox [2.2080357142857143, 2.7113095238095237, 2.487053571428571, 3.1547619047619047, 'face'] to be in the range [0.0, 1.0], got 2.2080357142857143.\n",
      "Expected x_min for bbox [1.9416330645161293, 1.7701612903225803, 3.267237903225807, 3.954301075268817, 'face'] to be in the range [0.0, 1.0], got 1.9416330645161293.\n",
      "Expected x_min for bbox [1.8257056451612903, 1.7298387096774193, 3.126108870967742, 3.967741935483871, 'face'] to be in the range [0.0, 1.0], got 1.8257056451612903.\n",
      "Expected x_min for bbox [5.031350806451614, 2.2809139784946235, 6.378140153911026, 4.33125, 'face'] to be in the range [0.0, 1.0], got 5.031350806451614.\n",
      "Expected x_min for bbox [4.723891129032259, 0.7217741935483869, 6.074697580645162, 2.704301075268817, 'face'] to be in the range [0.0, 1.0], got 4.723891129032259.\n",
      "Expected x_min for bbox [4.678528225806452, 0.7217741935483869, 6.089818548387098, 2.751344086021505, 'face'] to be in the range [0.0, 1.0], got 4.678528225806452.\n",
      "Expected x_min for bbox [2.5885416666666665, 7.323717948717948, 1.1262019230769231, 5.459401709401709, 'face'] to be in the range [0.0, 1.0], got 2.5885416666666665.\n",
      "Expected x_min for bbox [5.540423387096775, 0.9838709677419353, 4.103931451612904, 2.8991935483870965, 'face'] to be in the range [0.0, 1.0], got 5.540423387096775.\n",
      "Expected x_min for bbox [4.930544354838711, 0.7352150537634405, 6.452721774193549, 2.6034946236559136, 'face'] to be in the range [0.0, 1.0], got 4.930544354838711.\n",
      "Expected x_min for bbox [2.881620762711864, 7.549435028248587, 1.4409427966101696, 5.536723163841809, 'face'] to be in the range [0.0, 1.0], got 2.881620762711864.\n",
      "Expected y_min for bbox [0.8494791666666668, 1.5069444444444449, 2.1098958333333337, 3.7291666666666665, 'face'] to be in the range [0.0, 1.0], got 1.5069444444444449.\n",
      "Expected x_min for bbox [1.1200604838709678, 0.5940860215053763, 2.3851814516129033, 2.771505376344086, 'face'] to be in the range [0.0, 1.0], got 1.1200604838709678.\n",
      "Expected x_min for bbox [2.2520032051282053, 8.178418803418802, 0.5973557692307692, 6.041666666666667, 'face'] to be in the range [0.0, 1.0], got 2.2520032051282053.\n",
      "Expected x_min for bbox [1.2712701612903226, 1.178763440860215, 2.536391129032258, 3.5241935483870965, 'face'] to be in the range [0.0, 1.0], got 1.2712701612903226.\n",
      "Expected x_min for bbox [4.386189516129033, 0.9973118279569891, 6.024294354838711, 2.80510752688172, 'face'] to be in the range [0.0, 1.0], got 4.386189516129033.\n",
      "Expected x_min for bbox [3.0138888888888893, 5.464814814814814, 1.7638888888888886, 7.409259259259259, 'face'] to be in the range [0.0, 1.0], got 3.0138888888888893.\n",
      "Expected x_min for bbox [4.824784482758621, 1.3189655172413794, 6.284913793103448, 3.2298850574712645, 'face'] to be in the range [0.0, 1.0], got 4.824784482758621.\n",
      "Expected x_min for bbox [4.0704741379310345, 1.4913793103448276, 5.3204741379310345, 3.323275862068966, 'face'] to be in the range [0.0, 1.0], got 4.0704741379310345.\n",
      "Expected x_min for bbox [4.021982758620689, 1.6709770114942528, 5.309698275862069, 3.3663793103448274, 'face'] to be in the range [0.0, 1.0], got 4.021982758620689.\n",
      "Expected x_max for bbox [0.9346982758620686, 0.3275862068965515, 2.114655172413793, 2.346264367816092, 'face'] to be in the range [0.0, 1.0], got 2.114655172413793.\n",
      "Expected x_min for bbox [3.665321180555556, 2.8645833333333335, 4.272960069444444, 3.793402777777778, 'face'] to be in the range [0.0, 1.0], got 3.665321180555556.\n",
      "Expected x_min for bbox [3.642578125, 2.65625, 4.251953125, 3.6875, 'face'] to be in the range [0.0, 1.0], got 3.642578125.\n",
      "Expected y_min for bbox [0.8493303571428571, 2.282738095238095, 1.2220982142857142, 2.8988095238095237, 'face'] to be in the range [0.0, 1.0], got 2.282738095238095.\n",
      "Expected y_min for bbox [0.8816964285714285, 2.2723214285714284, 1.232142857142857, 2.889880952380952, 'face'] to be in the range [0.0, 1.0], got 2.2723214285714284.\n",
      "Expected x_min for bbox [4.475, 1.3458333333333334, 6.0375, 3.3291666666666666, 'face'] to be in the range [0.0, 1.0], got 4.475.\n",
      "Expected x_min for bbox [4.4375, 1.3208333333333333, 5.98125, 3.495833333333333, 'face'] to be in the range [0.0, 1.0], got 4.4375.\n",
      "Expected x_min for bbox [2.742187500000001, 1.196428571428572, 4.622767857142858, 4.663690476190476, 'face'] to be in the range [0.0, 1.0], got 2.742187500000001.\n",
      "Expected x_min for bbox [2.7645089285714293, 1.4568452380952386, 4.516741071428571, 4.522321428571429, 'face'] to be in the range [0.0, 1.0], got 2.7645089285714293.\n",
      "Expected x_min for bbox [1.5818452380952377, 2.527777777777778, 3.0922619047619047, 5.246031746031746, 'face'] to be in the range [0.0, 1.0], got 1.5818452380952377.\n",
      "Expected x_min for bbox [1.247023809523809, 2.537698412698413, 3.077380952380952, 6.009920634920634, 'face'] to be in the range [0.0, 1.0], got 1.247023809523809.\n",
      "Expected x_min for bbox [1.172619047619047, 1.64484126984127, 3.0699404761904763, 5.027777777777778, 'face'] to be in the range [0.0, 1.0], got 1.172619047619047.\n",
      "Expected x_min for bbox [5.111615566037736, 6.485849056603773, 3.8380306603773584, 4.178459119496855, 'face'] to be in the range [0.0, 1.0], got 5.111615566037736.\n",
      "Expected x_min for bbox [2.99375, 4.1875, 4.33125, 6.595833333333333, 'face'] to be in the range [0.0, 1.0], got 2.99375.\n",
      "Expected x_min for bbox [3.575, 4.454166666666667, 4.85, 6.745833333333334, 'face'] to be in the range [0.0, 1.0], got 3.575.\n",
      "Expected x_min for bbox [3.776973684210526, 4.36907894736842, 5.125657894736842, 6.7923245614035075, 'face'] to be in the range [0.0, 1.0], got 3.776973684210526.\n",
      "Expected x_min for bbox [4.5375, 2.0875, 6.01875, 4.070833333333334, 'face'] to be in the range [0.0, 1.0], got 4.5375.\n",
      "Expected x_min for bbox [4.825, 2.3625, 6.3625, 4.254166666666666, 'face'] to be in the range [0.0, 1.0], got 4.825.\n",
      "Expected x_min for bbox [4.73125, 2.220833333333333, 6.29375, 4.295833333333333, 'face'] to be in the range [0.0, 1.0], got 4.73125.\n",
      "Expected x_min for bbox [4.74375, 2.254166666666667, 6.30625, 4.279166666666667, 'face'] to be in the range [0.0, 1.0], got 4.74375.\n",
      "Expected x_min for bbox [2.5357638888888885, 5.661574074074074, 3.837847222222222, 7.941666666666666, 'face'] to be in the range [0.0, 1.0], got 2.5357638888888885.\n",
      "Expected x_min for bbox [2.4402777777777778, 5.3375, 3.6468750000000005, 7.675462962962963, 'face'] to be in the range [0.0, 1.0], got 2.4402777777777778.\n",
      "Expected x_min for bbox [2.0496527777777778, 3.7171296296296297, 3.264930555555556, 5.823611111111111, 'face'] to be in the range [0.0, 1.0], got 2.0496527777777778.\n",
      "Expected x_min for bbox [2.709375, 4.3768518518518515, 3.820486111111111, 6.379166666666666, 'face'] to be in the range [0.0, 1.0], got 2.709375.\n",
      "Expected x_min for bbox [2.040972222222222, 4.504166666666666, 3.3864583333333336, 6.575925925925926, 'face'] to be in the range [0.0, 1.0], got 2.040972222222222.\n",
      "Expected y_min for bbox [0.4350694444444443, 5.071296296296296, 2.3013888888888885, 7.455555555555555, 'face'] to be in the range [0.0, 1.0], got 5.071296296296296.\n",
      "Expected y_min for bbox [0.5565972222222222, 4.932407407407408, 2.4142361111111112, 7.362962962962963, 'face'] to be in the range [0.0, 1.0], got 4.932407407407408.\n",
      "Expected x_min for bbox [5.15, 4.729166666666667, 6.8125, 6.8625, 'face'] to be in the range [0.0, 1.0], got 5.15.\n",
      "Expected x_min for bbox [1.85, 4.0643518518518515, 3.429861111111111, 6.691666666666666, 'face'] to be in the range [0.0, 1.0], got 1.85.\n",
      "Expected x_min for bbox [2.275347222222222, 4.330555555555555, 3.6729166666666666, 6.413888888888889, 'face'] to be in the range [0.0, 1.0], got 2.275347222222222.\n",
      "Expected y_min for bbox [0.4524305555555557, 3.184722222222222, 2.8916666666666666, 6.159259259259259, 'face'] to be in the range [0.0, 1.0], got 3.184722222222222.\n"
     ]
    },
    {
     "name": "stdout",
     "output_type": "stream",
     "text": [
      "Expected x_min for bbox [2.7875, 2.339814814814815, 4.514930555555555, 4.781944444444445, 'face'] to be in the range [0.0, 1.0], got 2.7875.\n",
      "Expected x_min for bbox [2.63125, 1.460185185185185, 4.254513888888889, 4.295833333333333, 'face'] to be in the range [0.0, 1.0], got 2.63125.\n",
      "Expected x_min for bbox [2.561805555555556, 2.293518518518518, 4.150347222222222, 4.920833333333333, 'face'] to be in the range [0.0, 1.0], got 2.561805555555556.\n",
      "Expected x_min for bbox [2.6486111111111112, 7.258796296296296, 4.020138888888889, 5.256481481481481, 'face'] to be in the range [0.0, 1.0], got 2.6486111111111112.\n",
      "Expected x_min for bbox [3.875, 2.129166666666667, 5.9875, 3.995833333333333, 'face'] to be in the range [0.0, 1.0], got 3.875.\n",
      "Expected x_min for bbox [4.575, 2.7041666666666666, 5.88125, 4.545833333333333, 'face'] to be in the range [0.0, 1.0], got 4.575.\n",
      "Expected x_min for bbox [2.405555555555556, 4.7935185185185185, 3.481944444444445, 6.286574074074074, 'face'] to be in the range [0.0, 1.0], got 2.405555555555556.\n",
      "Expected x_min for bbox [2.63125, 4.596759259259259, 3.638194444444445, 6.089814814814814, 'face'] to be in the range [0.0, 1.0], got 2.63125.\n",
      "Expected x_min for bbox [2.4576388888888885, 4.388425925925926, 3.403819444444445, 5.846759259259259, 'face'] to be in the range [0.0, 1.0], got 2.4576388888888885.\n",
      "Expected x_min for bbox [2.4229166666666666, 4.619907407407408, 3.664236111111111, 6.888425925925926, 'face'] to be in the range [0.0, 1.0], got 2.4229166666666666.\n",
      "Expected x_min for bbox [2.355654761904762, 4.392857142857142, 2.854166666666667, 4.918650793650794, 'face'] to be in the range [0.0, 1.0], got 2.355654761904762.\n",
      "Expected x_min for bbox [2.177083333333333, 4.293650793650794, 2.638392857142857, 4.829365079365079, 'face'] to be in the range [0.0, 1.0], got 2.177083333333333.\n",
      "Expected x_min for bbox [1.6590277777777778, 3.52037037037037, 3.586111111111111, 6.703240740740741, 'face'] to be in the range [0.0, 1.0], got 1.6590277777777778.\n",
      "Expected x_min for bbox [1.9107638888888885, 3.844444444444444, 3.6468750000000005, 6.969444444444445, 'face'] to be in the range [0.0, 1.0], got 1.9107638888888885.\n",
      "Expected x_min for bbox [1.6590277777777778, 4.585185185185185, 2.7354166666666666, 6.622222222222222, 'face'] to be in the range [0.0, 1.0], got 1.6590277777777778.\n",
      "Expected x_min for bbox [1.1989583333333336, 3.879166666666667, 3.0045138888888885, 6.772685185185185, 'face'] to be in the range [0.0, 1.0], got 1.1989583333333336.\n",
      "Expected x_min for bbox [1.5201388888888885, 4.342129629629629, 3.2388888888888885, 7.166203703703704, 'face'] to be in the range [0.0, 1.0], got 1.5201388888888885.\n",
      "Expected x_min for bbox [1.4246527777777778, 4.411574074074074, 3.178125, 6.992592592592592, 'face'] to be in the range [0.0, 1.0], got 1.4246527777777778.\n",
      "Expected x_min for bbox [2.6138888888888885, 2.9763888888888888, 4.532291666666667, 6.402314814814814, 'face'] to be in the range [0.0, 1.0], got 2.6138888888888885.\n",
      "Expected x_min for bbox [2.865625, 2.9995370370370367, 5.07048611111111, 6.737962962962963, 'face'] to be in the range [0.0, 1.0], got 2.865625.\n",
      "Expected x_min for bbox [2.874305555555556, 3.20787037037037, 4.697222222222222, 6.714814814814814, 'face'] to be in the range [0.0, 1.0], got 2.874305555555556.\n",
      "Expected x_min for bbox [2.4125, 0.004166666666666667, 4.06875, 2.2958333333333334, 'face'] to be in the range [0.0, 1.0], got 2.4125.\n",
      "Expected x_min for bbox [2.1885416666666666, 1.784259259259259, 3.2822916666666666, 3.52037037037037, 'face'] to be in the range [0.0, 1.0], got 2.1885416666666666.\n",
      "Expected y_min for bbox [0.7128472222222222, 1.0319444444444443, 2.7354166666666666, 4.145370370370371, 'face'] to be in the range [0.0, 1.0], got 1.0319444444444443.\n",
      "Expected x_min for bbox [5.125, 2.0208333333333335, 7.2125, 5.054166666666666, 'face'] to be in the range [0.0, 1.0], got 5.125.\n",
      "Expected x_min for bbox [5.411057692307692, 5.361538461538461, 3.466346153846154, 7.557051282051281, 'face'] to be in the range [0.0, 1.0], got 5.411057692307692.\n",
      "Expected x_min for bbox [5.409027777777778, 5.198611111111111, 3.3170138888888894, 7.571296296296296, 'face'] to be in the range [0.0, 1.0], got 5.409027777777778.\n",
      "Expected x_min for bbox [5.374305555555555, 4.967129629629629, 3.3083333333333336, 7.478703703703704, 'face'] to be in the range [0.0, 1.0], got 5.374305555555555.\n",
      "Expected x_min for bbox [1.8125, 2.0791666666666666, 3.14375, 4.229166666666667, 'face'] to be in the range [0.0, 1.0], got 1.8125.\n",
      "Expected x_min for bbox [1.225, 2.536574074074074, 3.6121527777777778, 6.865277777777778, 'face'] to be in the range [0.0, 1.0], got 1.225.\n",
      "Expected y_min for bbox [0.75, 5.754166666666666, 3.40625, 1.6208333333333333, 'face'] to be in the range [0.0, 1.0], got 5.754166666666666.\n",
      "Expected x_min for bbox [4.862152777777778, 5.788888888888889, 3.0045138888888885, 7.9185185185185185, 'face'] to be in the range [0.0, 1.0], got 4.862152777777778.\n",
      "Expected x_min for bbox [4.879513888888889, 6.112962962962963, 3.1694444444444443, 8.323611111111111, 'face'] to be in the range [0.0, 1.0], got 4.879513888888889.\n",
      "Expected x_min for bbox [3.872569444444445, 4.886111111111111, 5.30486111111111, 7.050462962962963, 'face'] to be in the range [0.0, 1.0], got 3.872569444444445.\n",
      "Expected x_min for bbox [3.2736111111111112, 5.881481481481481, 4.627777777777778, 8.20787037037037, 'face'] to be in the range [0.0, 1.0], got 3.2736111111111112.\n",
      "Expected x_min for bbox [2.63125, 4.272685185185185, 4.089583333333334, 6.656944444444445, 'face'] to be in the range [0.0, 1.0], got 2.63125.\n",
      "Expected x_min for bbox [1.2684027777777778, 5.453240740740741, 2.94375, 7.953240740740741, 'face'] to be in the range [0.0, 1.0], got 1.2684027777777778.\n",
      "Expected y_min for bbox [0.8864583333333336, 6.3560185185185185, 2.7527777777777778, 8.647685185185185, 'face'] to be in the range [0.0, 1.0], got 6.3560185185185185.\n",
      "Expected y_min for bbox [0.99375, 1.3625, 2.16875, 3.7041666666666666, 'face'] to be in the range [0.0, 1.0], got 1.3625.\n",
      "Expected y_min for bbox [0.0, 1.5625, 1.2, 3.9375, 'face'] to be in the range [0.0, 1.0], got 1.5625.\n",
      "Expected y_min for bbox [0.10625, 1.6208333333333333, 1.3875, 3.8958333333333335, 'face'] to be in the range [0.0, 1.0], got 1.6208333333333333.\n",
      "Expected y_min for bbox [0.2375, 1.7958333333333334, 1.5875, 4.1125, 'face'] to be in the range [0.0, 1.0], got 1.7958333333333334.\n",
      "Expected y_min for bbox [0.525, 1.4458333333333333, 1.75, 3.5875, 'face'] to be in the range [0.0, 1.0], got 1.4458333333333333.\n",
      "Expected y_min for bbox [0.49375, 1.3291666666666666, 1.75625, 3.4875, 'face'] to be in the range [0.0, 1.0], got 1.3291666666666666.\n",
      "Expected x_min for bbox [5.024038461538462, 2.5147435897435897, 6.2660256410256405, 4.347008547008547, 'face'] to be in the range [0.0, 1.0], got 5.024038461538462.\n",
      "Expected x_min for bbox [1.1875651041666666, 5.784548611111111, 2.8216796874999996, 8.258506944444445, 'face'] to be in the range [0.0, 1.0], got 1.1875651041666666.\n",
      "Expected x_min for bbox [1.6125, 1.5875, 2.8875, 4.004166666666666, 'face'] to be in the range [0.0, 1.0], got 1.6125.\n",
      "Expected y_min for bbox [0.74375, 1.4125, 1.9875, 3.779166666666667, 'face'] to be in the range [0.0, 1.0], got 1.4125.\n",
      "Expected x_min for bbox [2.6286764705882355, 2.03921568627451, 3.010110294117647, 2.702205882352941, 'face'] to be in the range [0.0, 1.0], got 2.6286764705882355.\n",
      "Expected x_min for bbox [2.6139705882352944, 2.2892156862745097, 2.996323529411765, 2.933823529411765, 'face'] to be in the range [0.0, 1.0], got 2.6139705882352944.\n",
      "Expected x_min for bbox [2.80642523364486, 3.056619937694704, 3.5628504672897194, 4.409813084112149, 'face'] to be in the range [0.0, 1.0], got 2.80642523364486.\n",
      "Expected x_min for bbox [4.155263157894737, 1.3336257309941524, 5.9233552631578945, 3.819005847953216, 'face'] to be in the range [0.0, 1.0], got 4.155263157894737.\n",
      "Expected x_min for bbox [4.306030701754386, 0.7415204678362576, 6.071381578947369, 3.4169590643274854, 'face'] to be in the range [0.0, 1.0], got 4.306030701754386.\n",
      "Expected x_min for bbox [4.151293103448276, 1.3433908045977012, 5.851185344827586, 3.771551724137931, 'face'] to be in the range [0.0, 1.0], got 4.151293103448276.\n"
     ]
    },
    {
     "name": "stdout",
     "output_type": "stream",
     "text": [
      "Expected x_min for bbox [4.1625, 1.2791666666666666, 5.80625, 3.7041666666666666, 'face'] to be in the range [0.0, 1.0], got 4.1625.\n",
      "Expected y_min for bbox [0.6125, 1.6375, 2.1, 4.0125, 'face'] to be in the range [0.0, 1.0], got 1.6375.\n",
      "Expected y_min for bbox [0.75, 1.7625, 2.10625, 4.129166666666666, 'face'] to be in the range [0.0, 1.0], got 1.7625.\n",
      "Expected x_min for bbox [1.16875, 1.7708333333333333, 2.48125, 4.179166666666666, 'face'] to be in the range [0.0, 1.0], got 1.16875.\n",
      "Expected x_min for bbox [1.6764705882352942, 1.2659313725490196, 2.068014705882353, 1.946078431372549, 'face'] to be in the range [0.0, 1.0], got 1.6764705882352942.\n",
      "Expected x_min for bbox [1.656003937007874, 1.6141732283464567, 2.0361712598425195, 2.309711286089239, 'face'] to be in the range [0.0, 1.0], got 1.656003937007874.\n",
      "Expected y_min for bbox [0.5507305194805194, 1.5894480519480518, 0.9342532467532466, 2.2631493506493503, 'face'] to be in the range [0.0, 1.0], got 1.5894480519480518.\n",
      "Expected y_max for bbox [0.495465158045977, 0.3674688697318006, 0.8914780890804599, 1.0271910919540228, 'face'] to be in the range [0.0, 1.0], got 1.0271910919540228.\n",
      "Expected x_min for bbox [1.6212459415584415, 1.6328463203463204, 2.0098417207792205, 2.3254870129870127, 'face'] to be in the range [0.0, 1.0], got 1.6212459415584415.\n",
      "Expected x_min for bbox [1.65625, 1.45489804964539, 2.047706117021277, 2.1707668439716317, 'face'] to be in the range [0.0, 1.0], got 1.65625.\n",
      "Expected x_min for bbox [1.6557426948051948, 0.4166666666666667, 2.057528409090909, 1.0795454545454544, 'face'] to be in the range [0.0, 1.0], got 1.6557426948051948.\n",
      "Expected x_min for bbox [2.17258064516129, 3.8306451612903225, 4.334879032258064, 8.400537634408602, 'face'] to be in the range [0.0, 1.0], got 2.17258064516129.\n",
      "Expected x_min for bbox [1.4420138888888885, 4.075925925925926, 2.8482638888888885, 6.332870370370371, 'face'] to be in the range [0.0, 1.0], got 1.4420138888888885.\n",
      "Expected x_min for bbox [1.03125, 2.5575396825396832, 1.5297619047619044, 3.5099206349206353, 'face'] to be in the range [0.0, 1.0], got 1.03125.\n",
      "Expected x_min for bbox [1.0907738095238095, 2.656746031746032, 1.5967261904761905, 3.4900793650793656, 'face'] to be in the range [0.0, 1.0], got 1.0907738095238095.\n",
      "Expected x_min for bbox [2.9508928571428568, 2.2500000000000004, 3.5684523809523805, 3.1130952380952386, 'face'] to be in the range [0.0, 1.0], got 2.9508928571428568.\n",
      "Expected x_min for bbox [3.151785714285714, 2.111111111111111, 3.657738095238096, 2.89484126984127, 'face'] to be in the range [0.0, 1.0], got 3.151785714285714.\n",
      "Expected x_min for bbox [3.380681818181818, 1.7884199134199135, 3.8656655844155843, 2.5757575757575757, 'face'] to be in the range [0.0, 1.0], got 3.380681818181818.\n",
      "Expected x_min for bbox [1.59375, 1.5791666666666666, 2.81875, 3.8125, 'face'] to be in the range [0.0, 1.0], got 1.59375.\n",
      "Expected x_min for bbox [1.425, 1.7958333333333334, 2.66875, 3.9625, 'face'] to be in the range [0.0, 1.0], got 1.425.\n",
      "Expected x_min for bbox [2.24077868852459, 3.4918032786885242, 2.423668032786885, 3.8025956284153, 'face'] to be in the range [0.0, 1.0], got 2.24077868852459.\n",
      "Expected x_min for bbox [2.143780048076923, 1.031650641025641, 2.6591045673076925, 1.9471153846153844, 'face'] to be in the range [0.0, 1.0], got 2.143780048076923.\n",
      "Expected x_min for bbox [2.2385135135135137, 3.5075450450450445, 3.775675675675676, 5.579617117117116, 'face'] to be in the range [0.0, 1.0], got 2.2385135135135137.\n",
      "Expected y_min for bbox [0.33958333333333285, 5.163888888888889, 2.2232638888888885, 7.455555555555555, 'face'] to be in the range [0.0, 1.0], got 5.163888888888889.\n",
      "Expected y_min for bbox [0.9559027777777779, 4.226388888888889, 2.8048611111111112, 6.714814814814814, 'face'] to be in the range [0.0, 1.0], got 4.226388888888889.\n",
      "Expected x_min for bbox [3.559301181102362, 1.9734251968503935, 3.8964074803149606, 2.5688976377952755, 'face'] to be in the range [0.0, 1.0], got 3.559301181102362.\n",
      "Expected x_min for bbox [5.3916666666666675, 2.3976851851851846, 3.733680555555556, 5.534259259259259, 'face'] to be in the range [0.0, 1.0], got 5.3916666666666675.\n",
      "Expected x_min for bbox [4.36875, 1.7875, 5.90625, 4.420833333333333, 'face'] to be in the range [0.0, 1.0], got 4.36875.\n",
      "Expected x_min for bbox [4.6375, 0.004166666666666667, 6.2875, 1.8291666666666666, 'face'] to be in the range [0.0, 1.0], got 4.6375.\n",
      "Expected y_min for bbox [0.11875, 2.0875, 1.975, 5.129166666666666, 'face'] to be in the range [0.0, 1.0], got 2.0875.\n",
      "Expected x_max for bbox [0.67109375, 0.603125, 1.1671875, 1.5041666666666667, 'face'] to be in the range [0.0, 1.0], got 1.1671875.\n",
      "Expected x_min for bbox [3.4110186688311686, 1.8682359307359306, 3.7427962662337664, 2.4688852813852815, 'face'] to be in the range [0.0, 1.0], got 3.4110186688311686.\n",
      "Expected x_min for bbox [3.4255514705882355, 1.8700980392156863, 3.757352941176471, 2.4436274509803924, 'face'] to be in the range [0.0, 1.0], got 3.4255514705882355.\n",
      "Expected x_min for bbox [1.16875, 1.0625, 2.60625, 3.4375, 'face'] to be in the range [0.0, 1.0], got 1.16875.\n",
      "Expected x_min for bbox [1.175, 1.3625, 2.56875, 3.4625, 'face'] to be in the range [0.0, 1.0], got 1.175.\n",
      "Expected x_min for bbox [1.9802083333333336, 6.031944444444445, 3.725, 8.705555555555554, 'face'] to be in the range [0.0, 1.0], got 1.9802083333333336.\n",
      "Expected x_min for bbox [1.51875, 3.1041666666666665, 2.25, 4.245833333333334, 'face'] to be in the range [0.0, 1.0], got 1.51875.\n",
      "Expected y_min for bbox [0.7475694444444443, 5.638425925925926, 2.509722222222222, 7.883796296296296, 'face'] to be in the range [0.0, 1.0], got 5.638425925925926.\n",
      "Expected y_min for bbox [0.2006944444444443, 3.439351851851852, 2.3708333333333336, 7.073611111111111, 'face'] to be in the range [0.0, 1.0], got 3.439351851851852.\n",
      "Expected x_min for bbox [1.7625, 2.5875, 3.3375, 4.9375, 'face'] to be in the range [0.0, 1.0], got 1.7625.\n",
      "Expected x_min for bbox [1.099107142857143, 1.4726190476190477, 2.125892857142857, 3.216666666666667, 'face'] to be in the range [0.0, 1.0], got 1.099107142857143.\n",
      "Expected y_min for bbox [0.75625, 5.302777777777778, 2.4663194444444443, 7.710185185185185, 'face'] to be in the range [0.0, 1.0], got 5.302777777777778.\n",
      "Expected x_min for bbox [3.7944444444444443, 4.897685185185185, 5.365625, 7.652314814814815, 'face'] to be in the range [0.0, 1.0], got 3.7944444444444443.\n",
      "Expected x_min for bbox [2.171180555555556, 4.724074074074074, 3.7684027777777773, 7.015740740740741, 'face'] to be in the range [0.0, 1.0], got 2.171180555555556.\n",
      "Expected x_min for bbox [1.0513888888888885, 5.036574074074074, 2.796180555555556, 7.386111111111111, 'face'] to be in the range [0.0, 1.0], got 1.0513888888888885.\n",
      "Expected y_min for bbox [0.975, 2.4208333333333334, 2.625, 4.9125, 'face'] to be in the range [0.0, 1.0], got 2.4208333333333334.\n",
      "Expected x_min for bbox [1.16875, 2.8041666666666667, 2.69375, 5.2625, 'face'] to be in the range [0.0, 1.0], got 1.16875.\n",
      "Expected y_min for bbox [0.3829861111111107, 4.469444444444445, 1.9888888888888885, 6.888425925925926, 'face'] to be in the range [0.0, 1.0], got 4.469444444444445.\n",
      "Expected y_min for bbox [0.7302083333333329, 5.221759259259259, 2.2059027777777778, 7.409259259259259, 'face'] to be in the range [0.0, 1.0], got 5.221759259259259.\n",
      "Expected x_min for bbox [3.2736111111111112, 5.719444444444445, 4.558333333333333, 7.906944444444445, 'face'] to be in the range [0.0, 1.0], got 3.2736111111111112.\n",
      "Expected x_min for bbox [5.409027777777777, 5.013425925925926, 3.681597222222223, 7.200925925925926, 'face'] to be in the range [0.0, 1.0], got 5.409027777777777.\n",
      "Expected x_min for bbox [3.447222222222223, 4.805092592592592, 4.853472222222223, 7.166203703703704, 'face'] to be in the range [0.0, 1.0], got 3.447222222222223.\n",
      "Expected x_min for bbox [1.875, 4.955555555555555, 3.098958333333333, 7.235648148148148, 'face'] to be in the range [0.0, 1.0], got 1.875.\n",
      "Expected y_min for bbox [0.5555555555555557, 4.805092592592592, 1.7447916666666665, 7.247222222222222, 'face'] to be in the range [0.0, 1.0], got 4.805092592592592.\n",
      "Expected y_min for bbox [0.2517361111111107, 5.036574074074074, 1.8576388888888886, 7.629166666666666, 'face'] to be in the range [0.0, 1.0], got 5.036574074074074.\n"
     ]
    },
    {
     "name": "stdout",
     "output_type": "stream",
     "text": [
      "Expected x_min for bbox [2.6215277777777772, 4.874537037037038, 3.897569444444444, 7.224074074074074, 'face'] to be in the range [0.0, 1.0], got 2.6215277777777772.\n",
      "Expected x_min for bbox [5.038911290322581, 0.020161290322580634, 6.616532258064517, 2.244623655913978, 'face'] to be in the range [0.0, 1.0], got 5.038911290322581.\n",
      "Expected x_min for bbox [4.053819444444445, 2.339814814814815, 2.3611111111111116, 6.055092592592592, 'face'] to be in the range [0.0, 1.0], got 4.053819444444445.\n",
      "Expected x_min for bbox [1.0763888888888886, 4.353703703703704, 2.5, 6.818981481481481, 'face'] to be in the range [0.0, 1.0], got 1.0763888888888886.\n",
      "Expected y_min for bbox [0.15625, 3.948611111111111, 1.684027777777778, 6.622222222222222, 'face'] to be in the range [0.0, 1.0], got 3.948611111111111.\n",
      "Expected y_min for bbox [0.017361111111110716, 3.902314814814815, 1.328125, 6.448611111111111, 'face'] to be in the range [0.0, 1.0], got 3.902314814814815.\n",
      "Expected y_min for bbox [0.22569444444444428, 4.758796296296296, 1.8489583333333335, 7.166203703703704, 'face'] to be in the range [0.0, 1.0], got 4.758796296296296.\n",
      "Expected y_min for bbox [0.26909722222222215, 4.724074074074074, 1.8923611111111107, 7.038888888888889, 'face'] to be in the range [0.0, 1.0], got 4.724074074074074.\n",
      "Expected x_min for bbox [1.4451612903225808, 0.7795698924731184, 3.2092741935483873, 2.856182795698925, 'face'] to be in the range [0.0, 1.0], got 1.4451612903225808.\n",
      "Expected y_min for bbox [0.44270833333333287, 4.932407407407408, 2.0746527777777777, 7.467129629629629, 'face'] to be in the range [0.0, 1.0], got 4.932407407407408.\n",
      "Expected x_min for bbox [4.027777777777777, 2.339814814814815, 2.9253472222222228, 4.7935185185185185, 'face'] to be in the range [0.0, 1.0], got 4.027777777777777.\n",
      "Expected y_min for bbox [0.6684027777777779, 5.152314814814814, 2.291666666666667, 7.467129629629629, 'face'] to be in the range [0.0, 1.0], got 5.152314814814814.\n",
      "Expected x_min for bbox [2.369791666666667, 4.411574074074074, 3.6284722222222228, 6.437037037037038, 'face'] to be in the range [0.0, 1.0], got 2.369791666666667.\n",
      "Expected x_min for bbox [1.1892361111111107, 5.221759259259259, 2.725694444444444, 7.409259259259259, 'face'] to be in the range [0.0, 1.0], got 1.1892361111111107.\n",
      "Expected x_min for bbox [3.2638888888888884, 5.997222222222222, 1.5885416666666665, 8.080555555555556, 'face'] to be in the range [0.0, 1.0], got 3.2638888888888884.\n",
      "Expected y_min for bbox [0.625, 4.862962962962963, 2.2222222222222228, 7.073611111111111, 'face'] to be in the range [0.0, 1.0], got 4.862962962962963.\n",
      "Expected x_min for bbox [1.917410714285714, 2.577380952380953, 2.765625, 3.9265873015873023, 'face'] to be in the range [0.0, 1.0], got 1.917410714285714.\n",
      "Expected x_min for bbox [1.7447916666666665, 3.5782407407407404, 2.4826388888888884, 4.758796296296296, 'face'] to be in the range [0.0, 1.0], got 1.7447916666666665.\n",
      "Expected x_min for bbox [4.306597222222223, 6.193981481481481, 2.4402777777777778, 8.531944444444445, 'face'] to be in the range [0.0, 1.0], got 4.306597222222223.\n",
      "Expected x_min for bbox [2.5788690476190474, 3.936507936507937, 3.136904761904762, 4.928571428571429, 'face'] to be in the range [0.0, 1.0], got 2.5788690476190474.\n",
      "Expected x_min for bbox [1.7782738095238095, 2.48015873015873, 2.3586309523809526, 3.2738095238095237, 'face'] to be in the range [0.0, 1.0], got 1.7782738095238095.\n",
      "Expected y_min for bbox [0.6316964285714286, 1.0312500000000002, 0.7209821428571429, 1.1651785714285716, 'face'] to be in the range [0.0, 1.0], got 1.0312500000000002.\n",
      "Expected x_max for bbox [0.8766741071428571, 0.7380952380952382, 1.0092075892857142, 0.9166666666666667, 'face'] to be in the range [0.0, 1.0], got 1.0092075892857142.\n",
      "Expected y_min for bbox [0.6431686046511629, 5.678294573643411, 2.2747093023255816, 7.756782945736434, 'face'] to be in the range [0.0, 1.0], got 5.678294573643411.\n",
      "Expected y_min for bbox [0.9531901041666666, 5.797569444444445, 2.531966145833333, 7.833159722222223, 'face'] to be in the range [0.0, 1.0], got 5.797569444444445.\n",
      "Expected y_min for bbox [0.88125, 1.2791666666666666, 2.56875, 3.8125, 'face'] to be in the range [0.0, 1.0], got 1.2791666666666666.\n",
      "Expected x_max for bbox [0.0, 0.8125, 1.58125, 2.995833333333333, 'face'] to be in the range [0.0, 1.0], got 1.58125.\n",
      "Expected x_min for bbox [1.36875, 2.2291666666666665, 2.11875, 3.370833333333333, 'face'] to be in the range [0.0, 1.0], got 1.36875.\n",
      "Expected y_min for bbox [0.95625, 2.1041666666666665, 1.63125, 3.154166666666667, 'face'] to be in the range [0.0, 1.0], got 2.1041666666666665.\n",
      "Expected x_min for bbox [4.480208333333333, 6.379166666666666, 2.5791666666666666, 8.682407407407405, 'face'] to be in the range [0.0, 1.0], got 4.480208333333333.\n",
      "Expected x_min for bbox [2.18125, 1.9625, 3.75, 4.495833333333334, 'face'] to be in the range [0.0, 1.0], got 2.18125.\n",
      "Expected x_min for bbox [1.9715277777777778, 8.844444444444443, 3.6989583333333327, 6.390740740740741, 'face'] to be in the range [0.0, 1.0], got 1.9715277777777778.\n",
      "Expected x_min for bbox [2.5965277777777778, 8.022685185185185, 4.211111111111111, 5.476388888888889, 'face'] to be in the range [0.0, 1.0], got 2.5965277777777778.\n",
      "Expected x_min for bbox [3.2302083333333327, 4.041203703703704, 4.870833333333333, 6.992592592592592, 'face'] to be in the range [0.0, 1.0], got 3.2302083333333327.\n",
      "Expected x_min for bbox [5.6, 3.6375, 7.2234375, 6.454641544117647, 'face'] to be in the range [0.0, 1.0], got 5.6.\n",
      "Expected x_min for bbox [1.2875, 2.3291666666666666, 2.79375, 4.4125, 'face'] to be in the range [0.0, 1.0], got 1.2875.\n",
      "Expected x_min for bbox [5.1875, 2.745833333333333, 6.775, 5.4125, 'face'] to be in the range [0.0, 1.0], got 5.1875.\n",
      "Expected y_min for bbox [0.009722222222222143, 5.974074074074074, 2.1451388888888885, 9.018055555555554, 'face'] to be in the range [0.0, 1.0], got 5.974074074074074.\n",
      "Expected y_min for bbox [0.18333333333333285, 5.869907407407408, 2.31875, 8.948611111111111, 'face'] to be in the range [0.0, 1.0], got 5.869907407407408.\n",
      "Expected y_min for bbox [0.0010416666666664299, 5.025, 1.7805555555555557, 7.455555555555555, 'face'] to be in the range [0.0, 1.0], got 5.025.\n",
      "Expected x_min for bbox [2.396875, 5.707870370370371, 3.88125, 8.126851851851852, 'face'] to be in the range [0.0, 1.0], got 2.396875.\n",
      "Expected x_min for bbox [5.400347222222223, 5.071296296296296, 2.8048611111111112, 8.219444444444445, 'face'] to be in the range [0.0, 1.0], got 5.400347222222223.\n",
      "Expected x_min for bbox [5.409027777777777, 4.226388888888889, 3.6989583333333327, 6.622222222222222, 'face'] to be in the range [0.0, 1.0], got 5.409027777777777.\n",
      "Expected y_min for bbox [0.6076388888888886, 5.152314814814814, 2.0572916666666665, 7.536574074074074, 'face'] to be in the range [0.0, 1.0], got 5.152314814814814.\n",
      "Expected y_min for bbox [0.008680555555555714, 5.406944444444445, 0.625, 7.8375, 'face'] to be in the range [0.0, 1.0], got 5.406944444444445.\n",
      "Expected x_min for bbox [1.171875, 5.869907407407408, 2.604166666666667, 8.531944444444445, 'face'] to be in the range [0.0, 1.0], got 1.171875.\n",
      "Expected x_min for bbox [1.293402777777778, 5.812037037037038, 2.6388888888888884, 8.416203703703705, 'face'] to be in the range [0.0, 1.0], got 1.293402777777778.\n",
      "Expected x_min for bbox [4.045138888888888, 4.388425925925926, 2.6128472222222228, 7.015740740740741, 'face'] to be in the range [0.0, 1.0], got 4.045138888888888.\n",
      "Expected x_min for bbox [4.053819444444445, 5.881481481481481, 2.196180555555556, 8.138425925925926, 'face'] to be in the range [0.0, 1.0], got 4.053819444444445.\n",
      "Expected y_min for bbox [0.3385416666666664, 5.175462962962963, 1.9704861111111107, 7.675462962962963, 'face'] to be in the range [0.0, 1.0], got 5.175462962962963.\n",
      "Expected y_min for bbox [0.29513888888888856, 5.372222222222222, 1.918402777777778, 7.779629629629629, 'face'] to be in the range [0.0, 1.0], got 5.372222222222222.\n",
      "Expected x_max for bbox [0.7395161290322582, 0.026881720430107534, 2.2516129032258063, 2.2983870967741935, 'face'] to be in the range [0.0, 1.0], got 2.2516129032258063.\n",
      "Expected x_min for bbox [1.4905241935483873, 0.04032258064516127, 2.826209677419355, 2.029569892473118, 'face'] to be in the range [0.0, 1.0], got 1.4905241935483873.\n"
     ]
    },
    {
     "name": "stdout",
     "output_type": "stream",
     "text": [
      "Expected x_min for bbox [3.307291666666667, 4.816666666666666, 1.6927083333333335, 6.842129629629629, 'face'] to be in the range [0.0, 1.0], got 3.307291666666667.\n",
      "Expected x_min for bbox [1.7727822580645163, 0.9744623655913979, 3.355443548387097, 3.0712365591397845, 'face'] to be in the range [0.0, 1.0], got 1.7727822580645163.\n",
      "Expected x_min for bbox [4.027777777777777, 4.631481481481481, 2.803819444444444, 6.842129629629629, 'face'] to be in the range [0.0, 1.0], got 4.027777777777777.\n",
      "Expected x_min for bbox [5.547983870967743, 0.0336021505376344, 4.156854838709678, 2.4596774193548385, 'face'] to be in the range [0.0, 1.0], got 5.547983870967743.\n",
      "Expected x_min for bbox [2.447916666666667, 4.562037037037038, 3.741319444444444, 6.506481481481481, 'face'] to be in the range [0.0, 1.0], got 2.447916666666667.\n",
      "Expected x_min for bbox [2.395833333333333, 4.492592592592592, 3.645833333333333, 6.483333333333333, 'face'] to be in the range [0.0, 1.0], got 2.395833333333333.\n",
      "Expected x_min for bbox [3.7847222222222228, 5.025, 2.1875, 6.923148148148148, 'face'] to be in the range [0.0, 1.0], got 3.7847222222222228.\n",
      "Expected x_min for bbox [3.541666666666667, 5.6268518518518515, 2.0746527777777777, 7.721759259259259, 'face'] to be in the range [0.0, 1.0], got 3.541666666666667.\n",
      "Expected x_min for bbox [4.053819444444445, 4.886111111111111, 2.352430555555556, 6.957870370370371, 'face'] to be in the range [0.0, 1.0], got 4.053819444444445.\n",
      "Expected x_min for bbox [1.5541801948051948, 2.895021645021645, 2.020900974025974, 3.6958874458874456, 'face'] to be in the range [0.0, 1.0], got 1.5541801948051948.\n",
      "Expected x_min for bbox [3.6892361111111116, 7.617592592592592, 1.206597222222222, 2.5481481481481483, 'face'] to be in the range [0.0, 1.0], got 3.6892361111111116.\n",
      "Expected y_min for bbox [0.3048611111111107, 2.7101851851851846, 4.237152777777777, 8.867592592592592, 'face'] to be in the range [0.0, 1.0], got 2.7101851851851846.\n"
     ]
    }
   ],
   "source": [
    "for partition in ['train','test','val']: \n",
    "    for image in os.listdir(os.path.join('C:\\\\Users\\\\chsur\\\\cv\\\\data', partition, 'images')):\n",
    "        img = cv2.imread(os.path.join('C:\\\\Users\\\\chsur\\\\cv\\\\data', partition, 'images', image))\n",
    "\n",
    "        coords = [0,0,0.00001,0.00001]\n",
    "        label_path = os.path.join('C:\\\\Users\\\\chsur\\\\cv\\\\data', partition, 'labels', f'{image.split(\".\")[0]}.json')\n",
    "        if os.path.exists(label_path):\n",
    "            with open(label_path, 'r') as f:\n",
    "                label = json.load(f)\n",
    "\n",
    "            coords[0] = label['shapes'][0]['points'][0][0]\n",
    "            coords[1] = label['shapes'][0]['points'][0][1]\n",
    "            coords[2] = label['shapes'][0]['points'][1][0]\n",
    "            coords[3] = label['shapes'][0]['points'][1][1]\n",
    "            coords = list(np.divide(coords, [640,480,640,480]))\n",
    "\n",
    "        try: \n",
    "            for x in range(60):\n",
    "                augmented = augmentor(image=img, bboxes=[coords], class_labels=['face'])\n",
    "                cv2.imwrite(os.path.join('C:\\\\Users\\\\chsur\\\\cv\\\\aug_data', partition, 'images', f'{image.split(\".\")[0]}.{x}.jpg'), augmented['image'])\n",
    "\n",
    "                annotation = {}\n",
    "                annotation['image'] = image\n",
    "\n",
    "                if os.path.exists(label_path):\n",
    "                    if len(augmented['bboxes']) == 0: \n",
    "                        annotation['bbox'] = [0,0,0,0]\n",
    "                        annotation['class'] = 0 \n",
    "                    else: \n",
    "                        annotation['bbox'] = augmented['bboxes'][0]\n",
    "                        annotation['class'] = 1\n",
    "                else: \n",
    "                    annotation['bbox'] = [0,0,0,0]\n",
    "                    annotation['class'] = 0 \n",
    "\n",
    "\n",
    "                with open(os.path.join('C:\\\\Users\\\\chsur\\\\cv\\\\aug_data', partition, 'labels', f'{image.split(\".\")[0]}.{x}.json'), 'w') as f:\n",
    "                    json.dump(annotation, f)\n",
    "\n",
    "        except Exception as e:\n",
    "            print(e)"
   ]
  },
  {
   "cell_type": "markdown",
   "metadata": {},
   "source": [
    "### 5.2 Load Augmented Images to Tensorflow Dataset"
   ]
  },
  {
   "cell_type": "code",
   "execution_count": 39,
   "metadata": {
    "tags": []
   },
   "outputs": [],
   "source": [
    "train_images = tf.data.Dataset.list_files('C:\\\\Users\\\\chsur\\\\cv\\\\aug_data\\\\train\\\\images\\\\*.jpg', shuffle=False)\n",
    "train_images = train_images.map(load_image)\n",
    "train_images = train_images.map(lambda x: tf.image.resize(x, (120,120)))\n",
    "train_images = train_images.map(lambda x: x/255)"
   ]
  },
  {
   "cell_type": "code",
   "execution_count": 40,
   "metadata": {
    "tags": []
   },
   "outputs": [
    {
     "ename": "InvalidArgumentError",
     "evalue": "Expected 'tf.Tensor(False, shape=(), dtype=bool)' to be true. Summarized data: b'No files matched pattern: C:\\\\Users\\\\chsur\\\\cv\\\\aug_data\\\\test\\\\images\\\\*.jpg'",
     "output_type": "error",
     "traceback": [
      "\u001b[1;31m---------------------------------------------------------------------------\u001b[0m",
      "\u001b[1;31mInvalidArgumentError\u001b[0m                      Traceback (most recent call last)",
      "Cell \u001b[1;32mIn[40], line 1\u001b[0m\n\u001b[1;32m----> 1\u001b[0m test_images \u001b[38;5;241m=\u001b[39m tf\u001b[38;5;241m.\u001b[39mdata\u001b[38;5;241m.\u001b[39mDataset\u001b[38;5;241m.\u001b[39mlist_files(\u001b[38;5;124m'\u001b[39m\u001b[38;5;124mC:\u001b[39m\u001b[38;5;130;01m\\\\\u001b[39;00m\u001b[38;5;124mUsers\u001b[39m\u001b[38;5;130;01m\\\\\u001b[39;00m\u001b[38;5;124mchsur\u001b[39m\u001b[38;5;130;01m\\\\\u001b[39;00m\u001b[38;5;124mcv\u001b[39m\u001b[38;5;130;01m\\\\\u001b[39;00m\u001b[38;5;124maug_data\u001b[39m\u001b[38;5;130;01m\\\\\u001b[39;00m\u001b[38;5;124mtest\u001b[39m\u001b[38;5;130;01m\\\\\u001b[39;00m\u001b[38;5;124mimages\u001b[39m\u001b[38;5;130;01m\\\\\u001b[39;00m\u001b[38;5;124m*.jpg\u001b[39m\u001b[38;5;124m'\u001b[39m, shuffle\u001b[38;5;241m=\u001b[39m\u001b[38;5;28;01mFalse\u001b[39;00m)\n\u001b[0;32m      2\u001b[0m test_images \u001b[38;5;241m=\u001b[39m test_images\u001b[38;5;241m.\u001b[39mmap(load_image)\n\u001b[0;32m      3\u001b[0m test_images \u001b[38;5;241m=\u001b[39m test_images\u001b[38;5;241m.\u001b[39mmap(\u001b[38;5;28;01mlambda\u001b[39;00m x: tf\u001b[38;5;241m.\u001b[39mimage\u001b[38;5;241m.\u001b[39mresize(x, (\u001b[38;5;241m120\u001b[39m,\u001b[38;5;241m120\u001b[39m)))\n",
      "File \u001b[1;32m~\\anaconda3\\Lib\\site-packages\\tensorflow\\python\\data\\ops\\dataset_ops.py:1301\u001b[0m, in \u001b[0;36mDatasetV2.list_files\u001b[1;34m(file_pattern, shuffle, seed, name)\u001b[0m\n\u001b[0;32m   1294\u001b[0m condition \u001b[38;5;241m=\u001b[39m math_ops\u001b[38;5;241m.\u001b[39mgreater(array_ops\u001b[38;5;241m.\u001b[39mshape(matching_files)[\u001b[38;5;241m0\u001b[39m], \u001b[38;5;241m0\u001b[39m,\n\u001b[0;32m   1295\u001b[0m                              name\u001b[38;5;241m=\u001b[39m\u001b[38;5;124m\"\u001b[39m\u001b[38;5;124mmatch_not_empty\u001b[39m\u001b[38;5;124m\"\u001b[39m)\n\u001b[0;32m   1297\u001b[0m message \u001b[38;5;241m=\u001b[39m math_ops\u001b[38;5;241m.\u001b[39madd(\n\u001b[0;32m   1298\u001b[0m     \u001b[38;5;124m\"\u001b[39m\u001b[38;5;124mNo files matched pattern: \u001b[39m\u001b[38;5;124m\"\u001b[39m,\n\u001b[0;32m   1299\u001b[0m     string_ops\u001b[38;5;241m.\u001b[39mreduce_join(file_pattern, separator\u001b[38;5;241m=\u001b[39m\u001b[38;5;124m\"\u001b[39m\u001b[38;5;124m, \u001b[39m\u001b[38;5;124m\"\u001b[39m), name\u001b[38;5;241m=\u001b[39m\u001b[38;5;124m\"\u001b[39m\u001b[38;5;124mmessage\u001b[39m\u001b[38;5;124m\"\u001b[39m)\n\u001b[1;32m-> 1301\u001b[0m assert_not_empty \u001b[38;5;241m=\u001b[39m control_flow_assert\u001b[38;5;241m.\u001b[39mAssert(\n\u001b[0;32m   1302\u001b[0m     condition, [message], summarize\u001b[38;5;241m=\u001b[39m\u001b[38;5;241m1\u001b[39m, name\u001b[38;5;241m=\u001b[39m\u001b[38;5;124m\"\u001b[39m\u001b[38;5;124massert_not_empty\u001b[39m\u001b[38;5;124m\"\u001b[39m)\n\u001b[0;32m   1303\u001b[0m \u001b[38;5;28;01mwith\u001b[39;00m ops\u001b[38;5;241m.\u001b[39mcontrol_dependencies([assert_not_empty]):\n\u001b[0;32m   1304\u001b[0m   matching_files \u001b[38;5;241m=\u001b[39m array_ops\u001b[38;5;241m.\u001b[39midentity(matching_files)\n",
      "File \u001b[1;32m~\\anaconda3\\Lib\\site-packages\\tensorflow\\python\\util\\traceback_utils.py:153\u001b[0m, in \u001b[0;36mfilter_traceback.<locals>.error_handler\u001b[1;34m(*args, **kwargs)\u001b[0m\n\u001b[0;32m    151\u001b[0m \u001b[38;5;28;01mexcept\u001b[39;00m \u001b[38;5;167;01mException\u001b[39;00m \u001b[38;5;28;01mas\u001b[39;00m e:\n\u001b[0;32m    152\u001b[0m   filtered_tb \u001b[38;5;241m=\u001b[39m _process_traceback_frames(e\u001b[38;5;241m.\u001b[39m__traceback__)\n\u001b[1;32m--> 153\u001b[0m   \u001b[38;5;28;01mraise\u001b[39;00m e\u001b[38;5;241m.\u001b[39mwith_traceback(filtered_tb) \u001b[38;5;28;01mfrom\u001b[39;00m \u001b[38;5;28;01mNone\u001b[39;00m\n\u001b[0;32m    154\u001b[0m \u001b[38;5;28;01mfinally\u001b[39;00m:\n\u001b[0;32m    155\u001b[0m   \u001b[38;5;28;01mdel\u001b[39;00m filtered_tb\n",
      "File \u001b[1;32m~\\anaconda3\\Lib\\site-packages\\tensorflow\\python\\ops\\control_flow_assert.py:102\u001b[0m, in \u001b[0;36mAssert\u001b[1;34m(condition, data, summarize, name)\u001b[0m\n\u001b[0;32m    100\u001b[0m     xs \u001b[38;5;241m=\u001b[39m ops\u001b[38;5;241m.\u001b[39mconvert_n_to_tensor(data)\n\u001b[0;32m    101\u001b[0m     data_str \u001b[38;5;241m=\u001b[39m [_summarize_eager(x, summarize) \u001b[38;5;28;01mfor\u001b[39;00m x \u001b[38;5;129;01min\u001b[39;00m xs]\n\u001b[1;32m--> 102\u001b[0m     \u001b[38;5;28;01mraise\u001b[39;00m errors\u001b[38;5;241m.\u001b[39mInvalidArgumentError(\n\u001b[0;32m    103\u001b[0m         node_def\u001b[38;5;241m=\u001b[39m\u001b[38;5;28;01mNone\u001b[39;00m,\n\u001b[0;32m    104\u001b[0m         op\u001b[38;5;241m=\u001b[39m\u001b[38;5;28;01mNone\u001b[39;00m,\n\u001b[0;32m    105\u001b[0m         message\u001b[38;5;241m=\u001b[39m\u001b[38;5;124m\"\u001b[39m\u001b[38;5;124mExpected \u001b[39m\u001b[38;5;124m'\u001b[39m\u001b[38;5;132;01m%s\u001b[39;00m\u001b[38;5;124m'\u001b[39m\u001b[38;5;124m to be true. Summarized data: \u001b[39m\u001b[38;5;132;01m%s\u001b[39;00m\u001b[38;5;124m\"\u001b[39m \u001b[38;5;241m%\u001b[39m\n\u001b[0;32m    106\u001b[0m         (condition, \u001b[38;5;124m\"\u001b[39m\u001b[38;5;130;01m\\n\u001b[39;00m\u001b[38;5;124m\"\u001b[39m\u001b[38;5;241m.\u001b[39mjoin(data_str)))\n\u001b[0;32m    107\u001b[0m   \u001b[38;5;28;01mreturn\u001b[39;00m\n\u001b[0;32m    109\u001b[0m \u001b[38;5;28;01mwith\u001b[39;00m ops\u001b[38;5;241m.\u001b[39mname_scope(name, \u001b[38;5;124m\"\u001b[39m\u001b[38;5;124mAssert\u001b[39m\u001b[38;5;124m\"\u001b[39m, [condition, data]) \u001b[38;5;28;01mas\u001b[39;00m name:\n",
      "\u001b[1;31mInvalidArgumentError\u001b[0m: Expected 'tf.Tensor(False, shape=(), dtype=bool)' to be true. Summarized data: b'No files matched pattern: C:\\\\Users\\\\chsur\\\\cv\\\\aug_data\\\\test\\\\images\\\\*.jpg'"
     ]
    }
   ],
   "source": [
    "test_images = tf.data.Dataset.list_files('C:\\\\Users\\\\chsur\\\\cv\\\\aug_data\\\\test\\\\images\\\\*.jpg', shuffle=False)\n",
    "test_images = test_images.map(load_image)\n",
    "test_images = test_images.map(lambda x: tf.image.resize(x, (120,120)))\n",
    "test_images = test_images.map(lambda x: x/255)"
   ]
  },
  {
   "cell_type": "code",
   "execution_count": 41,
   "metadata": {
    "tags": []
   },
   "outputs": [],
   "source": [
    "val_images = tf.data.Dataset.list_files('C:\\\\Users\\\\chsur\\\\cv\\\\aug_data\\\\val\\\\images\\\\*.jpg', shuffle=False)\n",
    "val_images = val_images.map(load_image)\n",
    "val_images = val_images.map(lambda x: tf.image.resize(x, (120,120)))\n",
    "val_images = val_images.map(lambda x: x/255)"
   ]
  },
  {
   "cell_type": "code",
   "execution_count": 42,
   "metadata": {
    "tags": []
   },
   "outputs": [
    {
     "data": {
      "text/plain": [
       "array([[[0.77248776, 0.79601717, 0.79601717],\n",
       "        [0.7857843 , 0.8088235 , 0.8102941 ],\n",
       "        [0.7882353 , 0.8039216 , 0.8156863 ],\n",
       "        ...,\n",
       "        [0.8122549 , 0.847549  , 0.84362745],\n",
       "        [0.8117647 , 0.84705883, 0.84313726],\n",
       "        [0.8117647 , 0.84705883, 0.84313726]],\n",
       "\n",
       "       [[0.7769608 , 0.8004902 , 0.8004902 ],\n",
       "        [0.78186274, 0.8018995 , 0.81237745],\n",
       "        [0.7887255 , 0.80441177, 0.8161765 ],\n",
       "        ...,\n",
       "        [0.8122549 , 0.84362745, 0.8514706 ],\n",
       "        [0.8117647 , 0.84313726, 0.8509804 ],\n",
       "        [0.8117647 , 0.84313726, 0.8509804 ]],\n",
       "\n",
       "       [[0.8029412 , 0.8264706 , 0.8264706 ],\n",
       "        [0.8112745 , 0.83480394, 0.83480394],\n",
       "        [0.7970588 , 0.8127451 , 0.8245098 ],\n",
       "        ...,\n",
       "        [0.8126838 , 0.84797794, 0.84405637],\n",
       "        [0.811826  , 0.8471201 , 0.84319854],\n",
       "        [0.80833334, 0.84362745, 0.8397059 ]],\n",
       "\n",
       "       ...,\n",
       "\n",
       "       [[0.5251838 , 0.5526348 , 0.5918505 ],\n",
       "        [0.39375   , 0.421201  , 0.46041667],\n",
       "        [0.36237746, 0.38982844, 0.42904413],\n",
       "        ...,\n",
       "        [0.20496324, 0.26770833, 0.16574755],\n",
       "        [0.24871324, 0.32175246, 0.21243873],\n",
       "        [0.1889706 , 0.25612745, 0.14387254]],\n",
       "\n",
       "       [[0.42990196, 0.44558823, 0.48872548],\n",
       "        [0.38829657, 0.41574755, 0.45496324],\n",
       "        [0.27322304, 0.30067402, 0.3398897 ],\n",
       "        ...,\n",
       "        [0.27677697, 0.33952206, 0.2336397 ],\n",
       "        [0.23278186, 0.3058211 , 0.19650735],\n",
       "        [0.2077206 , 0.27487746, 0.16691177]],\n",
       "\n",
       "       [[0.40471813, 0.41887254, 0.45710784],\n",
       "        [0.4404412 , 0.46758577, 0.5074142 ],\n",
       "        [0.40379903, 0.43370098, 0.47536764],\n",
       "        ...,\n",
       "        [0.23137255, 0.2990196 , 0.19558823],\n",
       "        [0.1560049 , 0.22322305, 0.1185049 ],\n",
       "        [0.14080882, 0.20465687, 0.10269608]]], dtype=float32)"
      ]
     },
     "execution_count": 42,
     "metadata": {},
     "output_type": "execute_result"
    }
   ],
   "source": [
    "train_images.as_numpy_iterator().next()"
   ]
  },
  {
   "cell_type": "markdown",
   "metadata": {},
   "source": [
    "# 6. Prepare Labels"
   ]
  },
  {
   "cell_type": "markdown",
   "metadata": {},
   "source": [
    "### 6.1 Build Label Loading Function"
   ]
  },
  {
   "cell_type": "code",
   "execution_count": null,
   "metadata": {
    "tags": []
   },
   "outputs": [],
   "source": [
    "def load_labels(label_path):\n",
    "    with open(label_path.numpy(), 'r', encoding = \"utf-8\") as f:\n",
    "        label = json.load(f)\n",
    "        \n",
    "    return [label['class']], label['bbox']"
   ]
  },
  {
   "cell_type": "markdown",
   "metadata": {},
   "source": [
    "### 6.2 Load Labels to Tensorflow Dataset"
   ]
  },
  {
   "cell_type": "code",
   "execution_count": null,
   "metadata": {
    "tags": []
   },
   "outputs": [],
   "source": [
    "train_labels = tf.data.Dataset.list_files('C:\\\\Users\\\\chsur\\\\cv\\\\aug_data\\\\train\\\\labels\\\\*.json', shuffle=False)\n",
    "train_labels = train_labels.map(lambda x: tf.py_function(load_labels, [x], [tf.uint8, tf.float16]))"
   ]
  },
  {
   "cell_type": "code",
   "execution_count": null,
   "metadata": {
    "tags": []
   },
   "outputs": [],
   "source": [
    "test_labels = tf.data.Dataset.list_files('C:\\\\Users\\\\chsur\\\\cv\\\\aug_data\\\\test\\\\labels\\\\*.json', shuffle=False)\n",
    "test_labels = test_labels.map(lambda x: tf.py_function(load_labels, [x], [tf.uint8, tf.float16]))"
   ]
  },
  {
   "cell_type": "code",
   "execution_count": null,
   "metadata": {
    "tags": []
   },
   "outputs": [],
   "source": [
    "val_labels = tf.data.Dataset.list_files('C:\\\\Users\\\\chsur\\\\cv\\\\aug_data\\\\val\\\\labels\\\\*.json', shuffle=False)\n",
    "val_labels = val_labels.map(lambda x: tf.py_function(load_labels, [x], [tf.uint8, tf.float16]))"
   ]
  },
  {
   "cell_type": "code",
   "execution_count": null,
   "metadata": {},
   "outputs": [],
   "source": [
    "train_labels.as_numpy_iterator().next()"
   ]
  },
  {
   "cell_type": "markdown",
   "metadata": {},
   "source": [
    "# 7. Combine Label and Image Samples"
   ]
  },
  {
   "cell_type": "markdown",
   "metadata": {},
   "source": [
    "### 7.1 Check Partition Lengths"
   ]
  },
  {
   "cell_type": "code",
   "execution_count": null,
   "metadata": {
    "tags": []
   },
   "outputs": [],
   "source": [
    "len(train_images), len(train_labels), len(test_images), len(test_labels), len(val_images), len(val_labels)"
   ]
  },
  {
   "cell_type": "markdown",
   "metadata": {},
   "source": [
    "### 7.2 Create Final Datasets (Images/Labels)"
   ]
  },
  {
   "cell_type": "code",
   "execution_count": null,
   "metadata": {
    "tags": []
   },
   "outputs": [],
   "source": [
    "train = tf.data.Dataset.zip((train_images, train_labels))\n",
    "train = train.shuffle(5000)\n",
    "train = train.batch(8)\n",
    "train = train.prefetch(4)"
   ]
  },
  {
   "cell_type": "code",
   "execution_count": null,
   "metadata": {
    "tags": []
   },
   "outputs": [],
   "source": [
    "test = tf.data.Dataset.zip((test_images, test_labels))\n",
    "test = test.shuffle(1300)\n",
    "test = test.batch(8)\n",
    "test = test.prefetch(4)"
   ]
  },
  {
   "cell_type": "code",
   "execution_count": null,
   "metadata": {
    "tags": []
   },
   "outputs": [],
   "source": [
    "val = tf.data.Dataset.zip((val_images, val_labels))\n",
    "val = val.shuffle(1000)\n",
    "val = val.batch(8)\n",
    "val = val.prefetch(4)"
   ]
  },
  {
   "cell_type": "code",
   "execution_count": null,
   "metadata": {
    "tags": []
   },
   "outputs": [],
   "source": [
    "train.as_numpy_iterator().next()[1]"
   ]
  },
  {
   "cell_type": "markdown",
   "metadata": {},
   "source": [
    "### 7.3 View Images and Annotations"
   ]
  },
  {
   "cell_type": "code",
   "execution_count": null,
   "metadata": {
    "scrolled": true,
    "tags": []
   },
   "outputs": [],
   "source": [
    "data_samples = train.as_numpy_iterator()"
   ]
  },
  {
   "cell_type": "code",
   "execution_count": null,
   "metadata": {
    "tags": []
   },
   "outputs": [],
   "source": [
    "res = data_samples.next()"
   ]
  },
  {
   "cell_type": "code",
   "execution_count": null,
   "metadata": {
    "tags": []
   },
   "outputs": [],
   "source": [
    "fig, ax = plt.subplots(ncols=4, figsize=(20,20))\n",
    "for idx in range(4): \n",
    "    sample_image = res[0][idx]\n",
    "    sample_coords = res[1][1][idx]\n",
    "    \n",
    "    cv2.rectangle(sample_image, \n",
    "                  tuple(np.multiply(sample_coords[:2], [120,120]).astype(int)),\n",
    "                  tuple(np.multiply(sample_coords[2:], [120,120]).astype(int)), \n",
    "                        (255,0,0), 2)\n",
    "\n",
    "    ax[idx].imshow(sample_image)"
   ]
  },
  {
   "cell_type": "markdown",
   "metadata": {},
   "source": [
    "# 8. Build Deep Learning using the Functional API"
   ]
  },
  {
   "cell_type": "markdown",
   "metadata": {},
   "source": [
    "### 8.1 Import Layers and Base Network"
   ]
  },
  {
   "cell_type": "code",
   "execution_count": null,
   "metadata": {
    "tags": []
   },
   "outputs": [],
   "source": [
    "from tensorflow.keras.models import Model\n",
    "from tensorflow.keras.layers import Input, Conv2D, Dense, GlobalMaxPooling2D\n",
    "from tensorflow.keras.applications import VGG16"
   ]
  },
  {
   "cell_type": "markdown",
   "metadata": {},
   "source": [
    "### 8.2 Download VGG16"
   ]
  },
  {
   "cell_type": "code",
   "execution_count": null,
   "metadata": {
    "tags": []
   },
   "outputs": [],
   "source": [
    "vgg = VGG16(include_top=False)"
   ]
  },
  {
   "cell_type": "code",
   "execution_count": null,
   "metadata": {
    "tags": []
   },
   "outputs": [],
   "source": [
    "vgg.summary()"
   ]
  },
  {
   "cell_type": "markdown",
   "metadata": {},
   "source": [
    "### 8.3 Build instance of Network"
   ]
  },
  {
   "cell_type": "code",
   "execution_count": null,
   "metadata": {
    "tags": []
   },
   "outputs": [],
   "source": [
    "def build_model(): \n",
    "    input_layer = Input(shape=(120,120,3))\n",
    "    \n",
    "    vgg = VGG16(include_top=False)(input_layer)\n",
    "\n",
    "    # Classification Model  \n",
    "    f1 = GlobalMaxPooling2D()(vgg)\n",
    "    class1 = Dense(2048, activation='relu')(f1)\n",
    "    class2 = Dense(1, activation='sigmoid')(class1)\n",
    "    \n",
    "    # Bounding box model\n",
    "    f2 = GlobalMaxPooling2D()(vgg)\n",
    "    regress1 = Dense(2048, activation='relu')(f2)\n",
    "    regress2 = Dense(4, activation='sigmoid')(regress1)\n",
    "    \n",
    "    facetracker = Model(inputs=input_layer, outputs=[class2, regress2])\n",
    "    return facetracker"
   ]
  },
  {
   "cell_type": "markdown",
   "metadata": {},
   "source": [
    "### 8.4 Test out Neural Network"
   ]
  },
  {
   "cell_type": "code",
   "execution_count": null,
   "metadata": {
    "tags": []
   },
   "outputs": [],
   "source": [
    "facetracker = build_model()"
   ]
  },
  {
   "cell_type": "code",
   "execution_count": null,
   "metadata": {
    "tags": []
   },
   "outputs": [],
   "source": [
    "facetracker.summary()"
   ]
  },
  {
   "cell_type": "code",
   "execution_count": null,
   "metadata": {
    "tags": []
   },
   "outputs": [],
   "source": [
    "X, y = train.as_numpy_iterator().next()"
   ]
  },
  {
   "cell_type": "code",
   "execution_count": null,
   "metadata": {
    "tags": []
   },
   "outputs": [],
   "source": [
    "X.shape"
   ]
  },
  {
   "cell_type": "code",
   "execution_count": null,
   "metadata": {
    "tags": []
   },
   "outputs": [],
   "source": [
    "classes, coords = facetracker.predict(X)"
   ]
  },
  {
   "cell_type": "code",
   "execution_count": null,
   "metadata": {
    "tags": []
   },
   "outputs": [],
   "source": [
    "classes, coords"
   ]
  },
  {
   "cell_type": "markdown",
   "metadata": {},
   "source": [
    "# 9. Define Losses and Optimizers"
   ]
  },
  {
   "cell_type": "markdown",
   "metadata": {},
   "source": [
    "### 9.1 Define Optimizer and LR"
   ]
  },
  {
   "cell_type": "code",
   "execution_count": null,
   "metadata": {
    "tags": []
   },
   "outputs": [],
   "source": [
    "batches_per_epoch = len(train)\n",
    "lr_decay = (1./0.75 -1)/batches_per_epoch"
   ]
  },
  {
   "cell_type": "code",
   "execution_count": null,
   "metadata": {
    "tags": []
   },
   "outputs": [],
   "source": [
    "opt = tf.keras.optimizers.Adam(learning_rate=0.0001, decay=lr_decay)"
   ]
  },
  {
   "cell_type": "markdown",
   "metadata": {},
   "source": [
    "### 9.2 Create Localization Loss and Classification Loss"
   ]
  },
  {
   "cell_type": "code",
   "execution_count": null,
   "metadata": {
    "tags": []
   },
   "outputs": [],
   "source": [
    "def localization_loss(y_true, yhat):            \n",
    "    delta_coord = tf.reduce_sum(tf.square(y_true[:,:2] - yhat[:,:2]))\n",
    "                  \n",
    "    h_true = y_true[:,3] - y_true[:,1] \n",
    "    w_true = y_true[:,2] - y_true[:,0] \n",
    "\n",
    "    h_pred = yhat[:,3] - yhat[:,1] \n",
    "    w_pred = yhat[:,2] - yhat[:,0] \n",
    "    \n",
    "    delta_size = tf.reduce_sum(tf.square(w_true - w_pred) + tf.square(h_true-h_pred))\n",
    "    \n",
    "    return delta_coord + delta_size"
   ]
  },
  {
   "cell_type": "code",
   "execution_count": null,
   "metadata": {
    "tags": []
   },
   "outputs": [],
   "source": [
    "classloss = tf.keras.losses.BinaryCrossentropy()\n",
    "regressloss = localization_loss"
   ]
  },
  {
   "cell_type": "markdown",
   "metadata": {},
   "source": [
    "### 9.3 Test out Loss Metrics"
   ]
  },
  {
   "cell_type": "code",
   "execution_count": null,
   "metadata": {
    "tags": []
   },
   "outputs": [],
   "source": [
    "localization_loss(y[1], coords)"
   ]
  },
  {
   "cell_type": "code",
   "execution_count": null,
   "metadata": {
    "tags": []
   },
   "outputs": [],
   "source": [
    "classloss(y[0], classes)"
   ]
  },
  {
   "cell_type": "code",
   "execution_count": null,
   "metadata": {
    "tags": []
   },
   "outputs": [],
   "source": [
    "regressloss(y[1], coords)"
   ]
  },
  {
   "cell_type": "markdown",
   "metadata": {},
   "source": [
    "# 10. Train Neural Network"
   ]
  },
  {
   "cell_type": "markdown",
   "metadata": {},
   "source": [
    "### 10.1 Create Custom Model Class"
   ]
  },
  {
   "cell_type": "code",
   "execution_count": null,
   "metadata": {
    "tags": []
   },
   "outputs": [],
   "source": [
    "class FaceTracker(Model): \n",
    "    def __init__(self, eyetracker,  **kwargs): \n",
    "        super().__init__(**kwargs)\n",
    "        self.model = eyetracker\n",
    "\n",
    "    def compile(self, opt, classloss, localizationloss, **kwargs):\n",
    "        super().compile(**kwargs)\n",
    "        self.closs = classloss\n",
    "        self.lloss = localizationloss\n",
    "        self.opt = opt\n",
    "    \n",
    "    def train_step(self, batch, **kwargs): \n",
    "        \n",
    "        X, y = batch\n",
    "        \n",
    "        with tf.GradientTape() as tape: \n",
    "            classes, coords = self.model(X, training=True)\n",
    "            \n",
    "            batch_classloss = self.closs(y[0], classes)\n",
    "            batch_localizationloss = self.lloss(tf.cast(y[1], tf.float32), coords)\n",
    "            \n",
    "            total_loss = batch_localizationloss+0.5*batch_classloss\n",
    "            \n",
    "            grad = tape.gradient(total_loss, self.model.trainable_variables)\n",
    "        \n",
    "        opt.apply_gradients(zip(grad, self.model.trainable_variables))\n",
    "        \n",
    "        return {\"total_loss\":total_loss, \"class_loss\":batch_classloss, \"regress_loss\":batch_localizationloss}\n",
    "    \n",
    "    def test_step(self, batch, **kwargs): \n",
    "        X, y = batch\n",
    "        \n",
    "        classes, coords = self.model(X, training=False)\n",
    "        \n",
    "        batch_classloss = self.closs(y[0], classes)\n",
    "        batch_localizationloss = self.lloss(tf.cast(y[1], tf.float32), coords)\n",
    "        total_loss = batch_localizationloss+0.5*batch_classloss\n",
    "        \n",
    "        return {\"total_loss\":total_loss, \"class_loss\":batch_classloss, \"regress_loss\":batch_localizationloss}\n",
    "        \n",
    "    def call(self, X, **kwargs): \n",
    "        return self.model(X, **kwargs)"
   ]
  },
  {
   "cell_type": "code",
   "execution_count": null,
   "metadata": {
    "tags": []
   },
   "outputs": [],
   "source": [
    "model = FaceTracker(facetracker)"
   ]
  },
  {
   "cell_type": "code",
   "execution_count": null,
   "metadata": {
    "tags": []
   },
   "outputs": [],
   "source": [
    "model.compile(opt, classloss, regressloss)"
   ]
  },
  {
   "cell_type": "markdown",
   "metadata": {},
   "source": [
    "### 10.2 Train"
   ]
  },
  {
   "cell_type": "code",
   "execution_count": null,
   "metadata": {
    "tags": []
   },
   "outputs": [],
   "source": [
    "logdir='logs'"
   ]
  },
  {
   "cell_type": "code",
   "execution_count": null,
   "metadata": {
    "tags": []
   },
   "outputs": [],
   "source": [
    "tensorboard_callback = tf.keras.callbacks.TensorBoard(log_dir=logdir)"
   ]
  },
  {
   "cell_type": "code",
   "execution_count": null,
   "metadata": {
    "scrolled": true,
    "tags": []
   },
   "outputs": [],
   "source": [
    "hist = model.fit(train, epochs=10, validation_data=val, callbacks=[tensorboard_callback])"
   ]
  },
  {
   "cell_type": "markdown",
   "metadata": {},
   "source": [
    "### 10.3 Plot Performance"
   ]
  },
  {
   "cell_type": "code",
   "execution_count": null,
   "metadata": {
    "scrolled": true,
    "tags": []
   },
   "outputs": [],
   "source": [
    "hist.history"
   ]
  },
  {
   "cell_type": "code",
   "execution_count": null,
   "metadata": {
    "tags": []
   },
   "outputs": [],
   "source": [
    "fig, ax = plt.subplots(ncols=3, figsize=(20,5))\n",
    "\n",
    "ax[0].plot(hist.history['total_loss'], color='teal', label='loss')\n",
    "ax[0].plot(hist.history['val_total_loss'], color='orange', label='val loss')\n",
    "ax[0].title.set_text('Loss')\n",
    "ax[0].legend()\n",
    "\n",
    "ax[1].plot(hist.history['class_loss'], color='teal', label='class loss')\n",
    "ax[1].plot(hist.history['val_class_loss'], color='orange', label='val class loss')\n",
    "ax[1].title.set_text('Classification Loss')\n",
    "ax[1].legend()\n",
    "\n",
    "ax[2].plot(hist.history['regress_loss'], color='teal', label='regress loss')\n",
    "ax[2].plot(hist.history['val_regress_loss'], color='orange', label='val regress loss')\n",
    "ax[2].title.set_text('Regression Loss')\n",
    "ax[2].legend()\n",
    "\n",
    "plt.show()"
   ]
  },
  {
   "cell_type": "markdown",
   "metadata": {},
   "source": [
    "# 11. Make Predictions"
   ]
  },
  {
   "cell_type": "markdown",
   "metadata": {},
   "source": [
    "### 11.1 Make Predictions on Test Set"
   ]
  },
  {
   "cell_type": "code",
   "execution_count": null,
   "metadata": {
    "tags": []
   },
   "outputs": [],
   "source": [
    "test_data = test.as_numpy_iterator()"
   ]
  },
  {
   "cell_type": "code",
   "execution_count": null,
   "metadata": {
    "tags": []
   },
   "outputs": [],
   "source": [
    "test_sample = test_data.next()"
   ]
  },
  {
   "cell_type": "code",
   "execution_count": null,
   "metadata": {
    "tags": []
   },
   "outputs": [],
   "source": [
    "yhat = facetracker.predict(test_sample[0])"
   ]
  },
  {
   "cell_type": "code",
   "execution_count": null,
   "metadata": {
    "tags": []
   },
   "outputs": [],
   "source": [
    "fig, ax = plt.subplots(ncols=4, figsize=(20,20))\n",
    "for idx in range(4): \n",
    "    sample_image = test_sample[0][idx]\n",
    "    sample_coords = yhat[1][idx]\n",
    "    \n",
    "    if yhat[0][idx] > 0.9:\n",
    "        cv2.rectangle(sample_image, \n",
    "                      tuple(np.multiply(sample_coords[:2], [120,120]).astype(int)),\n",
    "                      tuple(np.multiply(sample_coords[2:], [120,120]).astype(int)), \n",
    "                            (255,0,0), 2)\n",
    "    \n",
    "    ax[idx].imshow(sample_image)"
   ]
  },
  {
   "cell_type": "markdown",
   "metadata": {},
   "source": [
    "### 11.2 Save the Model"
   ]
  },
  {
   "cell_type": "code",
   "execution_count": null,
   "metadata": {
    "tags": []
   },
   "outputs": [],
   "source": [
    "from tensorflow.keras.models import load_model"
   ]
  },
  {
   "cell_type": "code",
   "execution_count": null,
   "metadata": {
    "tags": []
   },
   "outputs": [],
   "source": [
    "facetracker.save('facetracker.h5')"
   ]
  },
  {
   "cell_type": "code",
   "execution_count": null,
   "metadata": {
    "tags": []
   },
   "outputs": [],
   "source": [
    "facetracker = load_model('facetracker.h5')"
   ]
  },
  {
   "cell_type": "markdown",
   "metadata": {},
   "source": [
    "### 11.3 Real Time Detection"
   ]
  },
  {
   "cell_type": "code",
   "execution_count": null,
   "metadata": {
    "tags": []
   },
   "outputs": [],
   "source": [
    "cap = cv2.VideoCapture(1)\n",
    "while cap.isOpened():\n",
    "    _ , frame = cap.read()\n",
    "    frame = frame[50:500, 50:500,:]\n",
    "    \n",
    "    rgb = cv2.cvtColor(frame, cv2.COLOR_BGR2RGB)\n",
    "    resized = tf.image.resize(rgb, (120,120))\n",
    "    \n",
    "    yhat = facetracker.predict(np.expand_dims(resized/255,0))\n",
    "    sample_coords = yhat[1][0]\n",
    "    \n",
    "    if yhat[0] > 0.5: \n",
    "        # Controls the main rectangle\n",
    "        cv2.rectangle(frame, \n",
    "                      tuple(np.multiply(sample_coords[:2], [450,450]).astype(int)),\n",
    "                      tuple(np.multiply(sample_coords[2:], [450,450]).astype(int)), \n",
    "                            (255,0,0), 2)\n",
    "        # Controls the label rectangle\n",
    "        cv2.rectangle(frame, \n",
    "                      tuple(np.add(np.multiply(sample_coords[:2], [450,450]).astype(int), \n",
    "                                    [0,-30])),\n",
    "                      tuple(np.add(np.multiply(sample_coords[:2], [450,450]).astype(int),\n",
    "                                    [80,0])), \n",
    "                            (255,0,0), -1)\n",
    "        \n",
    "        # Controls the text rendered\n",
    "        cv2.putText(frame, 'face', tuple(np.add(np.multiply(sample_coords[:2], [450,450]).astype(int),\n",
    "                                               [0,-5])),\n",
    "                    cv2.FONT_HERSHEY_SIMPLEX, 1, (255,255,255), 2, cv2.LINE_AA)\n",
    "    \n",
    "    cv2.imshow('EyeTrack', frame)\n",
    "    \n",
    "    if cv2.waitKey(1) & 0xFF == ord('q'):\n",
    "        break\n",
    "cap.release()\n",
    "cv2.destroyAllWindows()"
   ]
  },
  {
   "cell_type": "code",
   "execution_count": null,
   "metadata": {},
   "outputs": [],
   "source": []
  }
 ],
 "metadata": {
  "kernelspec": {
   "display_name": "Python 3 (ipykernel)",
   "language": "python",
   "name": "python3"
  },
  "language_info": {
   "codemirror_mode": {
    "name": "ipython",
    "version": 3
   },
   "file_extension": ".py",
   "mimetype": "text/x-python",
   "name": "python",
   "nbconvert_exporter": "python",
   "pygments_lexer": "ipython3",
   "version": "3.11.5"
  }
 },
 "nbformat": 4,
 "nbformat_minor": 4
}
