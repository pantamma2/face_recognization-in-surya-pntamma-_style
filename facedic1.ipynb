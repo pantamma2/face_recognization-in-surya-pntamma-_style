{
 "cells": [
  {
   "cell_type": "code",
   "execution_count": 1,
   "id": "7740ac40",
   "metadata": {},
   "outputs": [
    {
     "name": "stderr",
     "output_type": "stream",
     "text": [
      "INFO:albumentations.check_version:A new version of Albumentations is available: 1.4.12 (you have 1.4.11). Upgrade using: pip install --upgrade albumentations\n"
     ]
    }
   ],
   "source": [
    "\n",
    "import os\n",
    "import cv2\n",
    "import json\n",
    "import numpy as np\n",
    "import albumentations as alb\n",
    "import tensorflow as tf\n",
    "from sklearn.model_selection import train_test_split\n",
    "from tensorflow.keras.models import Model\n",
    "from tensorflow.keras.layers import Input, Dense, GlobalMaxPooling2D\n",
    "from tensorflow.keras.applications import VGG16"
   ]
  },
  {
   "cell_type": "code",
   "execution_count": 3,
   "id": "7d8edaca",
   "metadata": {},
   "outputs": [],
   "source": [
    "# Load images and annotations\n",
    "images = [\"C:\\\\Users\\\\chsur\\\\OneDrive\\\\Desktop\\\\suri-all\\\\data2\\\\images\\\\*.jpg\"]\n",
    "annotations = [\"C:\\\\Users\\\\chsur\\\\cv\\\\data\\\\labels\\\\*.json\"]\n",
    "\n",
    "for folder in ['train', 'test', 'val']:\n",
    "    image_folder = os.path.join('C:\\\\Users\\\\chsur\\\\OneDrive\\\\Desktop\\\\suri-all\\\\data2', folder, 'images')\n",
    "    label_folder = os.path.join('C:\\\\Users\\\\chsur\\\\OneDrive\\\\Desktop\\\\suri-all\\\\data2', folder, 'labels')\n",
    "\n",
    "    for file in os.listdir(image_folder):\n",
    "        image_path = os.path.join(image_folder, file)\n",
    "        images.append(cv2.imread(image_path))\n",
    "\n",
    "        label_path = os.path.join(label_folder, file.split('.')[0] + '.json')\n",
    "        if os.path.exists(label_path):\n",
    "            with open(label_path, 'r') as f:\n",
    "                annotations.append(json.load(f))"
   ]
  },
  {
   "cell_type": "code",
   "execution_count": 4,
   "id": "6d625e0d",
   "metadata": {},
   "outputs": [
    {
     "name": "stdout",
     "output_type": "stream",
     "text": [
      "C:\\Users\\chsur\\OneDrive\\Desktop\\suri-all\\data2\\val\\images\n"
     ]
    }
   ],
   "source": [
    "print(image_folder)"
   ]
  },
  {
   "cell_type": "code",
   "execution_count": 12,
   "id": "101d03a8",
   "metadata": {},
   "outputs": [
    {
     "ename": "ValueError",
     "evalue": "test_size=2 should be either positive and smaller than the number of samples 1 or a float in the (0, 1) range",
     "output_type": "error",
     "traceback": [
      "\u001b[1;31m---------------------------------------------------------------------------\u001b[0m",
      "\u001b[1;31mValueError\u001b[0m                                Traceback (most recent call last)",
      "Cell \u001b[1;32mIn[12], line 8\u001b[0m\n\u001b[0;32m      6\u001b[0m \u001b[38;5;66;03m# Split dataset into training, testing, and validation sets\u001b[39;00m\n\u001b[0;32m      7\u001b[0m test_size \u001b[38;5;241m=\u001b[39m \u001b[38;5;241m2\u001b[39m  \u001b[38;5;66;03m# Adjusting test_size to avoid empty train set\u001b[39;00m\n\u001b[1;32m----> 8\u001b[0m X_train, X_testval, y_train, y_testval \u001b[38;5;241m=\u001b[39m \u001b[43mtrain_test_split\u001b[49m\u001b[43m(\u001b[49m\u001b[43mimages\u001b[49m\u001b[43m,\u001b[49m\u001b[43m \u001b[49m\u001b[43mannotations\u001b[49m\u001b[43m,\u001b[49m\u001b[43m \u001b[49m\u001b[43mtest_size\u001b[49m\u001b[38;5;241;43m=\u001b[39;49m\u001b[43mtest_size\u001b[49m\u001b[43m,\u001b[49m\u001b[43m \u001b[49m\u001b[43mrandom_state\u001b[49m\u001b[38;5;241;43m=\u001b[39;49m\u001b[38;5;241;43m4\u001b[39;49m\u001b[43m)\u001b[49m\n\u001b[0;32m      9\u001b[0m X_test, X_val, y_test, y_val \u001b[38;5;241m=\u001b[39m train_test_split(X_testval, y_testval, test_size\u001b[38;5;241m=\u001b[39m\u001b[38;5;241m0.5\u001b[39m, random_state\u001b[38;5;241m=\u001b[39m\u001b[38;5;241m42\u001b[39m)\n",
      "File \u001b[1;32m~\\AppData\\Roaming\\Python\\Python310\\site-packages\\sklearn\\utils\\_param_validation.py:213\u001b[0m, in \u001b[0;36mvalidate_params.<locals>.decorator.<locals>.wrapper\u001b[1;34m(*args, **kwargs)\u001b[0m\n\u001b[0;32m    207\u001b[0m \u001b[38;5;28;01mtry\u001b[39;00m:\n\u001b[0;32m    208\u001b[0m     \u001b[38;5;28;01mwith\u001b[39;00m config_context(\n\u001b[0;32m    209\u001b[0m         skip_parameter_validation\u001b[38;5;241m=\u001b[39m(\n\u001b[0;32m    210\u001b[0m             prefer_skip_nested_validation \u001b[38;5;129;01mor\u001b[39;00m global_skip_validation\n\u001b[0;32m    211\u001b[0m         )\n\u001b[0;32m    212\u001b[0m     ):\n\u001b[1;32m--> 213\u001b[0m         \u001b[38;5;28;01mreturn\u001b[39;00m func(\u001b[38;5;241m*\u001b[39margs, \u001b[38;5;241m*\u001b[39m\u001b[38;5;241m*\u001b[39mkwargs)\n\u001b[0;32m    214\u001b[0m \u001b[38;5;28;01mexcept\u001b[39;00m InvalidParameterError \u001b[38;5;28;01mas\u001b[39;00m e:\n\u001b[0;32m    215\u001b[0m     \u001b[38;5;66;03m# When the function is just a wrapper around an estimator, we allow\u001b[39;00m\n\u001b[0;32m    216\u001b[0m     \u001b[38;5;66;03m# the function to delegate validation to the estimator, but we replace\u001b[39;00m\n\u001b[0;32m    217\u001b[0m     \u001b[38;5;66;03m# the name of the estimator by the name of the function in the error\u001b[39;00m\n\u001b[0;32m    218\u001b[0m     \u001b[38;5;66;03m# message to avoid confusion.\u001b[39;00m\n\u001b[0;32m    219\u001b[0m     msg \u001b[38;5;241m=\u001b[39m re\u001b[38;5;241m.\u001b[39msub(\n\u001b[0;32m    220\u001b[0m         \u001b[38;5;124mr\u001b[39m\u001b[38;5;124m\"\u001b[39m\u001b[38;5;124mparameter of \u001b[39m\u001b[38;5;124m\\\u001b[39m\u001b[38;5;124mw+ must be\u001b[39m\u001b[38;5;124m\"\u001b[39m,\n\u001b[0;32m    221\u001b[0m         \u001b[38;5;124mf\u001b[39m\u001b[38;5;124m\"\u001b[39m\u001b[38;5;124mparameter of \u001b[39m\u001b[38;5;132;01m{\u001b[39;00mfunc\u001b[38;5;241m.\u001b[39m\u001b[38;5;18m__qualname__\u001b[39m\u001b[38;5;132;01m}\u001b[39;00m\u001b[38;5;124m must be\u001b[39m\u001b[38;5;124m\"\u001b[39m,\n\u001b[0;32m    222\u001b[0m         \u001b[38;5;28mstr\u001b[39m(e),\n\u001b[0;32m    223\u001b[0m     )\n",
      "File \u001b[1;32m~\\AppData\\Roaming\\Python\\Python310\\site-packages\\sklearn\\model_selection\\_split.py:2780\u001b[0m, in \u001b[0;36mtrain_test_split\u001b[1;34m(test_size, train_size, random_state, shuffle, stratify, *arrays)\u001b[0m\n\u001b[0;32m   2777\u001b[0m arrays \u001b[38;5;241m=\u001b[39m indexable(\u001b[38;5;241m*\u001b[39marrays)\n\u001b[0;32m   2779\u001b[0m n_samples \u001b[38;5;241m=\u001b[39m _num_samples(arrays[\u001b[38;5;241m0\u001b[39m])\n\u001b[1;32m-> 2780\u001b[0m n_train, n_test \u001b[38;5;241m=\u001b[39m \u001b[43m_validate_shuffle_split\u001b[49m\u001b[43m(\u001b[49m\n\u001b[0;32m   2781\u001b[0m \u001b[43m    \u001b[49m\u001b[43mn_samples\u001b[49m\u001b[43m,\u001b[49m\u001b[43m \u001b[49m\u001b[43mtest_size\u001b[49m\u001b[43m,\u001b[49m\u001b[43m \u001b[49m\u001b[43mtrain_size\u001b[49m\u001b[43m,\u001b[49m\u001b[43m \u001b[49m\u001b[43mdefault_test_size\u001b[49m\u001b[38;5;241;43m=\u001b[39;49m\u001b[38;5;241;43m0.25\u001b[39;49m\n\u001b[0;32m   2782\u001b[0m \u001b[43m\u001b[49m\u001b[43m)\u001b[49m\n\u001b[0;32m   2784\u001b[0m \u001b[38;5;28;01mif\u001b[39;00m shuffle \u001b[38;5;129;01mis\u001b[39;00m \u001b[38;5;28;01mFalse\u001b[39;00m:\n\u001b[0;32m   2785\u001b[0m     \u001b[38;5;28;01mif\u001b[39;00m stratify \u001b[38;5;129;01mis\u001b[39;00m \u001b[38;5;129;01mnot\u001b[39;00m \u001b[38;5;28;01mNone\u001b[39;00m:\n",
      "File \u001b[1;32m~\\AppData\\Roaming\\Python\\Python310\\site-packages\\sklearn\\model_selection\\_split.py:2355\u001b[0m, in \u001b[0;36m_validate_shuffle_split\u001b[1;34m(n_samples, test_size, train_size, default_test_size)\u001b[0m\n\u001b[0;32m   2347\u001b[0m train_size_type \u001b[38;5;241m=\u001b[39m np\u001b[38;5;241m.\u001b[39masarray(train_size)\u001b[38;5;241m.\u001b[39mdtype\u001b[38;5;241m.\u001b[39mkind\n\u001b[0;32m   2349\u001b[0m \u001b[38;5;28;01mif\u001b[39;00m (\n\u001b[0;32m   2350\u001b[0m     test_size_type \u001b[38;5;241m==\u001b[39m \u001b[38;5;124m\"\u001b[39m\u001b[38;5;124mi\u001b[39m\u001b[38;5;124m\"\u001b[39m\n\u001b[0;32m   2351\u001b[0m     \u001b[38;5;129;01mand\u001b[39;00m (test_size \u001b[38;5;241m>\u001b[39m\u001b[38;5;241m=\u001b[39m n_samples \u001b[38;5;129;01mor\u001b[39;00m test_size \u001b[38;5;241m<\u001b[39m\u001b[38;5;241m=\u001b[39m \u001b[38;5;241m0\u001b[39m)\n\u001b[0;32m   2352\u001b[0m     \u001b[38;5;129;01mor\u001b[39;00m test_size_type \u001b[38;5;241m==\u001b[39m \u001b[38;5;124m\"\u001b[39m\u001b[38;5;124mf\u001b[39m\u001b[38;5;124m\"\u001b[39m\n\u001b[0;32m   2353\u001b[0m     \u001b[38;5;129;01mand\u001b[39;00m (test_size \u001b[38;5;241m<\u001b[39m\u001b[38;5;241m=\u001b[39m \u001b[38;5;241m0\u001b[39m \u001b[38;5;129;01mor\u001b[39;00m test_size \u001b[38;5;241m>\u001b[39m\u001b[38;5;241m=\u001b[39m \u001b[38;5;241m1\u001b[39m)\n\u001b[0;32m   2354\u001b[0m ):\n\u001b[1;32m-> 2355\u001b[0m     \u001b[38;5;28;01mraise\u001b[39;00m \u001b[38;5;167;01mValueError\u001b[39;00m(\n\u001b[0;32m   2356\u001b[0m         \u001b[38;5;124m\"\u001b[39m\u001b[38;5;124mtest_size=\u001b[39m\u001b[38;5;132;01m{0}\u001b[39;00m\u001b[38;5;124m should be either positive and smaller\u001b[39m\u001b[38;5;124m\"\u001b[39m\n\u001b[0;32m   2357\u001b[0m         \u001b[38;5;124m\"\u001b[39m\u001b[38;5;124m than the number of samples \u001b[39m\u001b[38;5;132;01m{1}\u001b[39;00m\u001b[38;5;124m or a float in the \u001b[39m\u001b[38;5;124m\"\u001b[39m\n\u001b[0;32m   2358\u001b[0m         \u001b[38;5;124m\"\u001b[39m\u001b[38;5;124m(0, 1) range\u001b[39m\u001b[38;5;124m\"\u001b[39m\u001b[38;5;241m.\u001b[39mformat(test_size, n_samples)\n\u001b[0;32m   2359\u001b[0m     )\n\u001b[0;32m   2361\u001b[0m \u001b[38;5;28;01mif\u001b[39;00m (\n\u001b[0;32m   2362\u001b[0m     train_size_type \u001b[38;5;241m==\u001b[39m \u001b[38;5;124m\"\u001b[39m\u001b[38;5;124mi\u001b[39m\u001b[38;5;124m\"\u001b[39m\n\u001b[0;32m   2363\u001b[0m     \u001b[38;5;129;01mand\u001b[39;00m (train_size \u001b[38;5;241m>\u001b[39m\u001b[38;5;241m=\u001b[39m n_samples \u001b[38;5;129;01mor\u001b[39;00m train_size \u001b[38;5;241m<\u001b[39m\u001b[38;5;241m=\u001b[39m \u001b[38;5;241m0\u001b[39m)\n\u001b[0;32m   2364\u001b[0m     \u001b[38;5;129;01mor\u001b[39;00m train_size_type \u001b[38;5;241m==\u001b[39m \u001b[38;5;124m\"\u001b[39m\u001b[38;5;124mf\u001b[39m\u001b[38;5;124m\"\u001b[39m\n\u001b[0;32m   2365\u001b[0m     \u001b[38;5;129;01mand\u001b[39;00m (train_size \u001b[38;5;241m<\u001b[39m\u001b[38;5;241m=\u001b[39m \u001b[38;5;241m0\u001b[39m \u001b[38;5;129;01mor\u001b[39;00m train_size \u001b[38;5;241m>\u001b[39m\u001b[38;5;241m=\u001b[39m \u001b[38;5;241m1\u001b[39m)\n\u001b[0;32m   2366\u001b[0m ):\n\u001b[0;32m   2367\u001b[0m     \u001b[38;5;28;01mraise\u001b[39;00m \u001b[38;5;167;01mValueError\u001b[39;00m(\n\u001b[0;32m   2368\u001b[0m         \u001b[38;5;124m\"\u001b[39m\u001b[38;5;124mtrain_size=\u001b[39m\u001b[38;5;132;01m{0}\u001b[39;00m\u001b[38;5;124m should be either positive and smaller\u001b[39m\u001b[38;5;124m\"\u001b[39m\n\u001b[0;32m   2369\u001b[0m         \u001b[38;5;124m\"\u001b[39m\u001b[38;5;124m than the number of samples \u001b[39m\u001b[38;5;132;01m{1}\u001b[39;00m\u001b[38;5;124m or a float in the \u001b[39m\u001b[38;5;124m\"\u001b[39m\n\u001b[0;32m   2370\u001b[0m         \u001b[38;5;124m\"\u001b[39m\u001b[38;5;124m(0, 1) range\u001b[39m\u001b[38;5;124m\"\u001b[39m\u001b[38;5;241m.\u001b[39mformat(train_size, n_samples)\n\u001b[0;32m   2371\u001b[0m     )\n",
      "\u001b[1;31mValueError\u001b[0m: test_size=2 should be either positive and smaller than the number of samples 1 or a float in the (0, 1) range"
     ]
    }
   ],
   "source": [
    "import numpy as np\n",
    "from sklearn.model_selection import train_test_split\n",
    "\n",
    "num_samples = len(images)\n",
    "\n",
    "# Split dataset into training, testing, and validation sets\n",
    "test_size = 2  # Adjusting test_size to avoid empty train set\n",
    "X_train, X_testval, y_train, y_testval = train_test_split(images, annotations, test_size=test_size, random_state=4)\n",
    "X_test, X_val, y_test, y_val = train_test_split(X_testval, y_testval, test_size=0.5, random_state=42)\n"
   ]
  },
  {
   "cell_type": "code",
   "execution_count": 6,
   "id": "792afbc7",
   "metadata": {},
   "outputs": [],
   "source": [
    "# Define augmentation pipeline\n",
    "augmentor = alb.Compose([\n",
    "    alb.RandomCrop(width=450, height=450),\n",
    "    alb.HorizontalFlip(p=0.5),\n",
    "    alb.RandomBrightnessContrast(p=0.2),\n",
    "    alb.RandomGamma(p=0.2),\n",
    "    alb.RGBShift(p=0.2),\n",
    "    alb.VerticalFlip(p=0.5)],\n",
    "    bbox_params=alb.BboxParams(format='albumentations', label_fields=['class_labels']))"
   ]
  },
  {
   "cell_type": "code",
   "execution_count": null,
   "id": "412b1256",
   "metadata": {},
   "outputs": [],
   "source": [
    "# Augment and save images and annotations\n",
    "for partition, X, y in [('train', X_train, y_train), ('test', X_test, y_test), ('val', X_val, y_val)]:\n",
    "    for idx, (image, annotation) in enumerate(zip(X, y)):\n",
    "        try:\n",
    "            coords = [0, 0, 0.00001, 0.00001]\n",
    "            if 'shapes' in annotation and len(annotation['shapes']) > 0:\n",
    "                coords[0] = annotation['shapes'][0]['points'][0][0]\n",
    "                coords[1] = annotation['shapes'][0]['points'][0][1]\n",
    "                coords[2] = annotation['shapes'][0]['points'][1][0]\n",
    "                coords[3] = annotation['shapes'][0]['points'][1][1]\n",
    "                coords = list(np.divide(coords, [640, 480, 640, 480]))\n",
    "\n",
    "            for x in range(60):\n",
    "                augmented = augmentor(image=image, bboxes=[coords], class_labels=['face'])\n",
    "\n",
    "                cv2.imwrite(os.path.join(\"C:\\\\Users\\\\chsur\\\\cv\\\\aug_data\", partition, 'images', f'{idx}.{x}.jpg'), augmented['image'])\n",
    "\n",
    "                annotation_dict = {\n",
    "                    'image': f'{idx}.{x}.jpg',\n",
    "                    'bbox': augmented['bboxes'][0] if augmented['bboxes'] else [0, 0, 0, 0],\n",
    "                    'class': 1 if augmented['bboxes'] else 0\n",
    "                }\n",
    "\n",
    "                with open(os.path.join('aug_data', partition, 'labels', f'{idx}.{x}.json'), 'w') as f:\n",
    "                    json.dump(annotation_dict, f)\n",
    "        except Exception as e:\n",
    "            print(e)\n"
   ]
  },
  {
   "cell_type": "code",
   "execution_count": null,
   "id": "d0205ec2",
   "metadata": {},
   "outputs": [],
   "source": [
    "# Load augmented data and create TensorFlow datasets\n",
    "def load_image_and_label(image_path, label_path):\n",
    "    image = tf.io.read_file(image_path)\n",
    "    image = tf.io.decode_jpeg(image)\n",
    "    image = tf.image.resize(image, (120, 120))\n",
    "    image = image / 255.0\n",
    "\n",
    "    with open(label_path.numpy(), 'r') as f:\n",
    "        label = json.load(f)\n",
    "\n",
    "    return image, [label['class']], label['bbox']\n",
    "\n",
    "train_images = tf.data.Dataset.list_files('C:\\\\Users\\\\chsur\\\\cv\\\\aug_data/train/images/*.jpg')\n",
    "train_labels = tf.data.Dataset.list_files('C:\\\\Users\\\\chsur\\\\cv\\\\aug_data/train/labels/*.json')\n",
    "train_dataset = tf.data.Dataset.zip((train_images, train_labels)).map(\n",
    "    lambda x, y: tf.py_function(load_image_and_label, [x, y], [tf.float32, tf.uint8, tf.float16]))\n",
    "\n",
    "test_images = tf.data.Dataset.list_files('C:\\\\Users\\\\chsur\\\\cv\\\\aug_data/test/images/*.jpg')\n",
    "test_labels = tf.data.Dataset.list_files('C:\\\\Users\\\\chsur\\\\cv\\\\aug_data/test/labels/*.json')\n",
    "test_dataset = tf.data.Dataset.zip((test_images, test_labels)).map(\n",
    "    lambda x, y: tf.py_function(load_image_and_label, [x, y], [tf.float32, tf.uint8, tf.float16]))\n",
    "\n",
    "val_images = tf.data.Dataset.list_files('C:\\\\Users\\\\chsur\\\\cv\\\\aug_data/val/images/*.jpg')\n",
    "val_labels = tf.data.Dataset.list_files('C:\\\\Users\\\\chsur\\\\cv\\\\aug_data/val/labels/*.json')\n",
    "val_dataset = tf.data.Dataset.zip((val_images, val_labels)).map(\n",
    "    lambda x, y: tf.py_function(load_image_and_label, [x, y], [tf.float32, tf.uint8, tf.float16]))\n"
   ]
  },
  {
   "cell_type": "code",
   "execution_count": null,
   "id": "a174acd1",
   "metadata": {},
   "outputs": [],
   "source": [
    "# Build the model\n",
    "def build_model():\n",
    "    input_layer = Input(shape=(120, 120, 3))\n",
    "    vgg = VGG16(include_top=False)(input_layer)\n",
    "\n",
    "    # Classification Model\n",
    "    f1 = GlobalMaxPooling2D()(vgg)\n",
    "    class1 = Dense(2048, activation='relu')(f1)\n",
    "    class2 = Dense(1, activation='sigmoid')(class1)\n",
    "\n",
    "    # Bounding box model\n",
    "    f2 = GlobalMaxPooling2D()(vgg)\n",
    "    regress1 = Dense(2048, activation='relu')(f2)\n",
    "    regress2 = Dense(4, activation='sigmoid')(regress1)\n",
    "\n",
    "    facetracker = Model(inputs=input_layer, outputs=[class2, regress2])\n",
    "    return facetracker\n",
    "\n",
    "facetracker = build_model()\n",
    "facetracker.compile(optimizer='adam', loss=['binary_crossentropy', localization_loss], metrics=['accuracy']) # type: ignore\n",
    "\n",
    "# Train the model\n",
    "facetracker.fit(train_dataset.batch(8), epochs=10, validation_data=val_dataset.batch(8))\n",
    "\n",
    "# Evaluate the model\n",
    "facetracker.evaluate(test_dataset.batch(8))\n"
   ]
  }
 ],
 "metadata": {
  "kernelspec": {
   "display_name": "Python 3 (ipykernel)",
   "language": "python",
   "name": "python3"
  },
  "language_info": {
   "codemirror_mode": {
    "name": "ipython",
    "version": 3
   },
   "file_extension": ".py",
   "mimetype": "text/x-python",
   "name": "python",
   "nbconvert_exporter": "python",
   "pygments_lexer": "ipython3",
   "version": "3.10.11"
  }
 },
 "nbformat": 4,
 "nbformat_minor": 5
}
